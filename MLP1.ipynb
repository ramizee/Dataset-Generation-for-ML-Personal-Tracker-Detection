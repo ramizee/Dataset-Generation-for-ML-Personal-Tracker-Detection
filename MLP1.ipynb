{
 "cells": [
  {
   "cell_type": "markdown",
   "id": "3018c8d3",
   "metadata": {},
   "source": [
    "# MLP on 80/20 Data Splitting Approach"
   ]
  },
  {
   "cell_type": "code",
   "execution_count": 1,
   "id": "242dabf2",
   "metadata": {},
   "outputs": [],
   "source": [
    "import warnings\n",
    "warnings.filterwarnings('ignore')"
   ]
  },
  {
   "cell_type": "code",
   "execution_count": 2,
   "id": "e06e974a",
   "metadata": {},
   "outputs": [],
   "source": [
    "import pandas as pd\n",
    "import numpy as np\n",
    "import tensorflow as tf\n",
    "import matplotlib.pyplot as plt\n",
    "import seaborn as sns\n",
    "from sklearn.model_selection import train_test_split\n",
    "from sklearn.preprocessing import StandardScaler, LabelEncoder\n",
    "from sklearn.metrics import confusion_matrix, classification_report, accuracy_score, precision_score, recall_score, f1_score"
   ]
  },
  {
   "cell_type": "code",
   "execution_count": 3,
   "id": "dc0c039d",
   "metadata": {},
   "outputs": [],
   "source": [
    "from tensorflow.keras.models import Sequential\n",
    "from tensorflow.keras.layers import Dense, Dropout\n",
    "from tensorflow.keras.utils import to_categorical\n",
    "from keras.models import load_model"
   ]
  },
  {
   "cell_type": "code",
   "execution_count": 4,
   "id": "d285002f",
   "metadata": {},
   "outputs": [],
   "source": [
    "import joblib"
   ]
  },
  {
   "cell_type": "markdown",
   "id": "e538c1eb",
   "metadata": {},
   "source": [
    "Need to preprocess the data again cause not able to open the file 'all_data_final' because of its size"
   ]
  },
  {
   "cell_type": "code",
   "execution_count": 6,
   "id": "128402c0",
   "metadata": {},
   "outputs": [
    {
     "name": "stdout",
     "output_type": "stream",
     "text": [
      "['PDU Type', 'Info', 'Channel Selection Algorithm', 'Tx Address', 'Rx Address', 'Simultaneous LE and BR/EDR to Same Device Capable (Host)', 'Simultaneous LE and BR/EDR to Same Device Capable (Controller)', 'BR/EDR Not Supported', 'LE General Discoverable Mode', 'LE Limited Discoverable Mode', 'label', 'subcategory', 'Packet Direction']\n",
      "Total number of rows: 901623\n",
      "Rows with NaN values:\n"
     ]
    }
   ],
   "source": [
    "def get_feature_types(df):\n",
    "    numerical_features = []\n",
    "    categorical_features = []\n",
    "    boolean_features = []\n",
    "    for column_name, column_type in df.dtypes.items():\n",
    "        if column_type in ['int64', 'float64']:\n",
    "            numerical_features.append(column_name)\n",
    "        elif column_type == 'object':\n",
    "            categorical_features.append(column_name)\n",
    "        elif column_type == 'bool':\n",
    "            boolean_features.append(column_name)\n",
    "    return numerical_features, categorical_features, boolean_features\n",
    "\n",
    "numerical_features, categorical_features, boolean_features = get_feature_types(data)\n",
    "\n",
    "def one_hot_encode_features(data, categorical_features):\n",
    "    if 'label' in categorical_features:\n",
    "        categorical_features.remove('label')\n",
    "    if 'subcategory' in categorical_features:\n",
    "        categorical_features.remove('subcategory')\n",
    "    data = pd.get_dummies(data, columns=categorical_features, drop_first=True)\n",
    "    return data\n",
    "\n",
    "data = one_hot_encode_features(data, categorical_features)\n",
    "data.fillna(0, inplace=True)"
   ]
  },
  {
   "cell_type": "markdown",
   "id": "4394c5d8",
   "metadata": {},
   "source": [
    "Split into X=features and y=labels"
   ]
  },
  {
   "cell_type": "code",
   "execution_count": 7,
   "id": "22ec8a87",
   "metadata": {},
   "outputs": [],
   "source": [
    "X = data.drop(columns=['label', 'subcategory']).values\n",
    "y = data['label'].values"
   ]
  },
  {
   "cell_type": "markdown",
   "id": "32c82574",
   "metadata": {},
   "source": [
    "SAVE X and y"
   ]
  },
  {
   "cell_type": "code",
   "execution_count": 8,
   "id": "222bfb79",
   "metadata": {},
   "outputs": [
    {
     "data": {
      "text/plain": [
       "['csv 20 minutes/labeled2/features_final/together/y_MLP.pkl']"
      ]
     },
     "execution_count": 8,
     "metadata": {},
     "output_type": "execute_result"
    }
   ],
   "source": [
    "joblib.dump(X, 'csv 20 minutes/labeled2/features_final/together/X_MLP.pkl')\n",
    "joblib.dump(y, 'csv 20 minutes/labeled2/features_final/together/y_MLP.pkl')"
   ]
  },
  {
   "cell_type": "markdown",
   "id": "e810d739",
   "metadata": {},
   "source": [
    "LOAD X and y"
   ]
  },
  {
   "cell_type": "code",
   "execution_count": 6,
   "id": "f02c6e42",
   "metadata": {},
   "outputs": [],
   "source": [
    "X = joblib.load('csv 20 minutes/labeled2/features_final/together/X_MLP.pkl')\n",
    "y = joblib.load('csv 20 minutes/labeled2/features_final/together/y_MLP.pkl')"
   ]
  },
  {
   "cell_type": "markdown",
   "id": "e664db4f",
   "metadata": {},
   "source": [
    "Preprocess according to paper"
   ]
  },
  {
   "cell_type": "code",
   "execution_count": 7,
   "id": "a7b34924",
   "metadata": {},
   "outputs": [],
   "source": [
    "# Normalize the features\n",
    "scaler = StandardScaler()\n",
    "X_normalized = scaler.fit_transform(X)\n",
    "X_normalized = X_normalized.astype(np.float32)\n",
    "\n",
    "# Transform the labels to integers using label encoder\n",
    "label_encoder = LabelEncoder()\n",
    "y_encoded = label_encoder.fit_transform(y)\n",
    "\n",
    "# Transform the labels using one-hot encoding\n",
    "num_classes = len(label_encoder.classes_)\n",
    "y_categorical = to_categorical(y_encoded, num_classes=num_classes)"
   ]
  },
  {
   "cell_type": "markdown",
   "id": "657a9d77",
   "metadata": {},
   "source": [
    "# Split data based on 80/20 data splitting method"
   ]
  },
  {
   "cell_type": "code",
   "execution_count": null,
   "id": "3f1dc167",
   "metadata": {},
   "outputs": [],
   "source": [
    "X_train1, X_test1, y_train1, y_test1 = train_test_split(X_normalized, y_categorical, test_size=0.1, random_state=42)"
   ]
  },
  {
   "cell_type": "markdown",
   "id": "6ac6f864",
   "metadata": {},
   "source": [
    "SAVE"
   ]
  },
  {
   "cell_type": "code",
   "execution_count": 9,
   "id": "778dc4a6",
   "metadata": {},
   "outputs": [
    {
     "data": {
      "text/plain": [
       "['csv 20 minutes/labeled2/features_final/together/y_MLP_test1.pkl']"
      ]
     },
     "execution_count": 9,
     "metadata": {},
     "output_type": "execute_result"
    }
   ],
   "source": [
    "joblib.dump(X_train1, 'csv 20 minutes/labeled2/features_final/together/X_MLP_train1.pkl')\n",
    "joblib.dump(X_test1, 'csv 20 minutes/labeled2/features_final/together/X_MLP_test1.pkl')\n",
    "joblib.dump(y_train1, 'csv 20 minutes/labeled2/features_final/together/y_MLP_train1.pkl')\n",
    "joblib.dump(y_test1, 'csv 20 minutes/labeled2/features_final/together/y_MLP_test1.pkl')"
   ]
  },
  {
   "cell_type": "markdown",
   "id": "ce5f39f3",
   "metadata": {},
   "source": [
    "LOAD"
   ]
  },
  {
   "cell_type": "code",
   "execution_count": 8,
   "id": "194a7aae",
   "metadata": {},
   "outputs": [],
   "source": [
    "X_train1 = joblib.load('csv 20 minutes/labeled2/features_final/together/X_MLP_train1.pkl')\n",
    "X_test1 = joblib.load('csv 20 minutes/labeled2/features_final/together/X_MLP_test1.pkl')\n",
    "y_train1 = joblib.load('csv 20 minutes/labeled2/features_final/together/y_MLP_train1.pkl')\n",
    "y_test1 = joblib.load('csv 20 minutes/labeled2/features_final/together/y_MLP_test1.pkl')"
   ]
  },
  {
   "cell_type": "markdown",
   "id": "a2ab51fe",
   "metadata": {},
   "source": [
    "# TRAIN MLP"
   ]
  },
  {
   "cell_type": "markdown",
   "id": "a1f0a201",
   "metadata": {},
   "source": [
    "Same model structure as from paper"
   ]
  },
  {
   "cell_type": "code",
   "execution_count": 10,
   "id": "2d01cc87",
   "metadata": {},
   "outputs": [],
   "source": [
    "model = Sequential([\n",
    "    Dense(128, activation='relu', input_shape=(X_normalized.shape[1],)),\n",
    "    Dropout(0.3),\n",
    "    Dense(128, activation='relu'),\n",
    "    Dropout(0.3),\n",
    "    Dense(num_classes, activation='softmax')\n",
    "])"
   ]
  },
  {
   "cell_type": "code",
   "execution_count": 11,
   "id": "c68dc408",
   "metadata": {},
   "outputs": [],
   "source": [
    "model.compile(optimizer='adam', loss='categorical_crossentropy', metrics=['accuracy'])"
   ]
  },
  {
   "cell_type": "code",
   "execution_count": 13,
   "id": "49c5d7b3",
   "metadata": {},
   "outputs": [
    {
     "name": "stdout",
     "output_type": "stream",
     "text": [
      "Epoch 1/50\n",
      "\u001b[1m20287/20287\u001b[0m \u001b[32m━━━━━━━━━━━━━━━━━━━━\u001b[0m\u001b[37m\u001b[0m \u001b[1m28s\u001b[0m 1ms/step - accuracy: 0.9762 - loss: 0.1139 - val_accuracy: 0.9970 - val_loss: 0.0124\n",
      "Epoch 2/50\n",
      "\u001b[1m20287/20287\u001b[0m \u001b[32m━━━━━━━━━━━━━━━━━━━━\u001b[0m\u001b[37m\u001b[0m \u001b[1m24s\u001b[0m 1ms/step - accuracy: 0.9956 - loss: 0.0197 - val_accuracy: 0.9970 - val_loss: 0.0115\n",
      "Epoch 3/50\n",
      "\u001b[1m20287/20287\u001b[0m \u001b[32m━━━━━━━━━━━━━━━━━━━━\u001b[0m\u001b[37m\u001b[0m \u001b[1m28s\u001b[0m 1ms/step - accuracy: 0.9961 - loss: 0.0172 - val_accuracy: 0.9974 - val_loss: 0.0081\n",
      "Epoch 4/50\n",
      "\u001b[1m20287/20287\u001b[0m \u001b[32m━━━━━━━━━━━━━━━━━━━━\u001b[0m\u001b[37m\u001b[0m \u001b[1m28s\u001b[0m 1ms/step - accuracy: 0.9964 - loss: 0.0190 - val_accuracy: 0.9976 - val_loss: 0.0088\n",
      "Epoch 5/50\n",
      "\u001b[1m20287/20287\u001b[0m \u001b[32m━━━━━━━━━━━━━━━━━━━━\u001b[0m\u001b[37m\u001b[0m \u001b[1m26s\u001b[0m 1ms/step - accuracy: 0.9967 - loss: 0.0227 - val_accuracy: 0.9975 - val_loss: 0.0089\n",
      "Epoch 6/50\n",
      "\u001b[1m20287/20287\u001b[0m \u001b[32m━━━━━━━━━━━━━━━━━━━━\u001b[0m\u001b[37m\u001b[0m \u001b[1m28s\u001b[0m 1ms/step - accuracy: 0.9969 - loss: 0.0206 - val_accuracy: 0.9975 - val_loss: 0.0101\n",
      "Epoch 7/50\n",
      "\u001b[1m20287/20287\u001b[0m \u001b[32m━━━━━━━━━━━━━━━━━━━━\u001b[0m\u001b[37m\u001b[0m \u001b[1m29s\u001b[0m 1ms/step - accuracy: 0.9968 - loss: 0.0187 - val_accuracy: 0.9977 - val_loss: 0.0087\n",
      "Epoch 8/50\n",
      "\u001b[1m20287/20287\u001b[0m \u001b[32m━━━━━━━━━━━━━━━━━━━━\u001b[0m\u001b[37m\u001b[0m \u001b[1m25s\u001b[0m 1ms/step - accuracy: 0.9968 - loss: 0.0208 - val_accuracy: 0.9979 - val_loss: 0.0087\n",
      "Epoch 9/50\n",
      "\u001b[1m20287/20287\u001b[0m \u001b[32m━━━━━━━━━━━━━━━━━━━━\u001b[0m\u001b[37m\u001b[0m \u001b[1m26s\u001b[0m 1ms/step - accuracy: 0.9968 - loss: 0.0176 - val_accuracy: 0.9978 - val_loss: 0.0093\n",
      "Epoch 10/50\n",
      "\u001b[1m20287/20287\u001b[0m \u001b[32m━━━━━━━━━━━━━━━━━━━━\u001b[0m\u001b[37m\u001b[0m \u001b[1m26s\u001b[0m 1ms/step - accuracy: 0.9969 - loss: 0.0255 - val_accuracy: 0.9976 - val_loss: 0.0112\n",
      "Epoch 11/50\n",
      "\u001b[1m20287/20287\u001b[0m \u001b[32m━━━━━━━━━━━━━━━━━━━━\u001b[0m\u001b[37m\u001b[0m \u001b[1m28s\u001b[0m 1ms/step - accuracy: 0.9970 - loss: 0.0209 - val_accuracy: 0.9975 - val_loss: 0.0083\n",
      "Epoch 12/50\n",
      "\u001b[1m20287/20287\u001b[0m \u001b[32m━━━━━━━━━━━━━━━━━━━━\u001b[0m\u001b[37m\u001b[0m \u001b[1m28s\u001b[0m 1ms/step - accuracy: 0.9970 - loss: 0.0345 - val_accuracy: 0.9977 - val_loss: 0.0078\n",
      "Epoch 13/50\n",
      "\u001b[1m20287/20287\u001b[0m \u001b[32m━━━━━━━━━━━━━━━━━━━━\u001b[0m\u001b[37m\u001b[0m \u001b[1m25s\u001b[0m 1ms/step - accuracy: 0.9969 - loss: 0.0292 - val_accuracy: 0.9977 - val_loss: 0.0072\n",
      "Epoch 14/50\n",
      "\u001b[1m20287/20287\u001b[0m \u001b[32m━━━━━━━━━━━━━━━━━━━━\u001b[0m\u001b[37m\u001b[0m \u001b[1m25s\u001b[0m 1ms/step - accuracy: 0.9968 - loss: 0.0249 - val_accuracy: 0.9978 - val_loss: 0.0074\n",
      "Epoch 15/50\n",
      "\u001b[1m20287/20287\u001b[0m \u001b[32m━━━━━━━━━━━━━━━━━━━━\u001b[0m\u001b[37m\u001b[0m \u001b[1m29s\u001b[0m 1ms/step - accuracy: 0.9968 - loss: 0.0411 - val_accuracy: 0.9976 - val_loss: 0.0074\n",
      "Epoch 16/50\n",
      "\u001b[1m20287/20287\u001b[0m \u001b[32m━━━━━━━━━━━━━━━━━━━━\u001b[0m\u001b[37m\u001b[0m \u001b[1m29s\u001b[0m 1ms/step - accuracy: 0.9968 - loss: 0.0316 - val_accuracy: 0.9976 - val_loss: 0.0099\n",
      "Epoch 17/50\n",
      "\u001b[1m20287/20287\u001b[0m \u001b[32m━━━━━━━━━━━━━━━━━━━━\u001b[0m\u001b[37m\u001b[0m \u001b[1m28s\u001b[0m 1ms/step - accuracy: 0.9969 - loss: 0.0247 - val_accuracy: 0.9976 - val_loss: 0.0089\n",
      "Epoch 18/50\n",
      "\u001b[1m20287/20287\u001b[0m \u001b[32m━━━━━━━━━━━━━━━━━━━━\u001b[0m\u001b[37m\u001b[0m \u001b[1m29s\u001b[0m 1ms/step - accuracy: 0.9968 - loss: 0.0311 - val_accuracy: 0.9977 - val_loss: 0.0072\n",
      "Epoch 19/50\n",
      "\u001b[1m20287/20287\u001b[0m \u001b[32m━━━━━━━━━━━━━━━━━━━━\u001b[0m\u001b[37m\u001b[0m \u001b[1m28s\u001b[0m 1ms/step - accuracy: 0.9969 - loss: 0.0264 - val_accuracy: 0.9977 - val_loss: 0.0069\n",
      "Epoch 20/50\n",
      "\u001b[1m20287/20287\u001b[0m \u001b[32m━━━━━━━━━━━━━━━━━━━━\u001b[0m\u001b[37m\u001b[0m \u001b[1m26s\u001b[0m 1ms/step - accuracy: 0.9968 - loss: 0.0322 - val_accuracy: 0.9978 - val_loss: 0.0072\n",
      "Epoch 21/50\n",
      "\u001b[1m20287/20287\u001b[0m \u001b[32m━━━━━━━━━━━━━━━━━━━━\u001b[0m\u001b[37m\u001b[0m \u001b[1m27s\u001b[0m 1ms/step - accuracy: 0.9968 - loss: 0.0589 - val_accuracy: 0.9975 - val_loss: 0.0069\n",
      "Epoch 22/50\n",
      "\u001b[1m20287/20287\u001b[0m \u001b[32m━━━━━━━━━━━━━━━━━━━━\u001b[0m\u001b[37m\u001b[0m \u001b[1m27s\u001b[0m 1ms/step - accuracy: 0.9968 - loss: 0.0327 - val_accuracy: 0.9975 - val_loss: 0.0084\n",
      "Epoch 23/50\n",
      "\u001b[1m20287/20287\u001b[0m \u001b[32m━━━━━━━━━━━━━━━━━━━━\u001b[0m\u001b[37m\u001b[0m \u001b[1m27s\u001b[0m 1ms/step - accuracy: 0.9969 - loss: 0.0428 - val_accuracy: 0.9975 - val_loss: 0.0092\n",
      "Epoch 24/50\n",
      "\u001b[1m20287/20287\u001b[0m \u001b[32m━━━━━━━━━━━━━━━━━━━━\u001b[0m\u001b[37m\u001b[0m \u001b[1m28s\u001b[0m 1ms/step - accuracy: 0.9969 - loss: 0.0615 - val_accuracy: 0.9973 - val_loss: 0.0100\n",
      "Epoch 25/50\n",
      "\u001b[1m20287/20287\u001b[0m \u001b[32m━━━━━━━━━━━━━━━━━━━━\u001b[0m\u001b[37m\u001b[0m \u001b[1m27s\u001b[0m 1ms/step - accuracy: 0.9969 - loss: 0.0289 - val_accuracy: 0.9975 - val_loss: 0.0100\n",
      "Epoch 26/50\n",
      "\u001b[1m20287/20287\u001b[0m \u001b[32m━━━━━━━━━━━━━━━━━━━━\u001b[0m\u001b[37m\u001b[0m \u001b[1m29s\u001b[0m 1ms/step - accuracy: 0.9968 - loss: 0.0362 - val_accuracy: 0.9974 - val_loss: 0.0079\n",
      "Epoch 27/50\n",
      "\u001b[1m20287/20287\u001b[0m \u001b[32m━━━━━━━━━━━━━━━━━━━━\u001b[0m\u001b[37m\u001b[0m \u001b[1m28s\u001b[0m 1ms/step - accuracy: 0.9967 - loss: 0.0359 - val_accuracy: 0.9976 - val_loss: 0.0110\n",
      "Epoch 28/50\n",
      "\u001b[1m20287/20287\u001b[0m \u001b[32m━━━━━━━━━━━━━━━━━━━━\u001b[0m\u001b[37m\u001b[0m \u001b[1m27s\u001b[0m 1ms/step - accuracy: 0.9968 - loss: 0.0317 - val_accuracy: 0.9975 - val_loss: 0.0090\n",
      "Epoch 29/50\n",
      "\u001b[1m20287/20287\u001b[0m \u001b[32m━━━━━━━━━━━━━━━━━━━━\u001b[0m\u001b[37m\u001b[0m \u001b[1m27s\u001b[0m 1ms/step - accuracy: 0.9970 - loss: 0.0296 - val_accuracy: 0.9977 - val_loss: 0.0085\n",
      "Epoch 30/50\n",
      "\u001b[1m20287/20287\u001b[0m \u001b[32m━━━━━━━━━━━━━━━━━━━━\u001b[0m\u001b[37m\u001b[0m \u001b[1m29s\u001b[0m 1ms/step - accuracy: 0.9968 - loss: 0.0313 - val_accuracy: 0.9973 - val_loss: 0.0103\n",
      "Epoch 31/50\n",
      "\u001b[1m20287/20287\u001b[0m \u001b[32m━━━━━━━━━━━━━━━━━━━━\u001b[0m\u001b[37m\u001b[0m \u001b[1m27s\u001b[0m 1ms/step - accuracy: 0.9968 - loss: 0.0376 - val_accuracy: 0.9976 - val_loss: 0.0102\n",
      "Epoch 32/50\n",
      "\u001b[1m20287/20287\u001b[0m \u001b[32m━━━━━━━━━━━━━━━━━━━━\u001b[0m\u001b[37m\u001b[0m \u001b[1m43s\u001b[0m 1ms/step - accuracy: 0.9968 - loss: 0.0391 - val_accuracy: 0.9975 - val_loss: 0.0090\n",
      "Epoch 33/50\n",
      "\u001b[1m20287/20287\u001b[0m \u001b[32m━━━━━━━━━━━━━━━━━━━━\u001b[0m\u001b[37m\u001b[0m \u001b[1m29s\u001b[0m 1ms/step - accuracy: 0.9967 - loss: 0.0715 - val_accuracy: 0.9972 - val_loss: 0.0109\n",
      "Epoch 34/50\n",
      "\u001b[1m20287/20287\u001b[0m \u001b[32m━━━━━━━━━━━━━━━━━━━━\u001b[0m\u001b[37m\u001b[0m \u001b[1m29s\u001b[0m 1ms/step - accuracy: 0.9967 - loss: 0.0441 - val_accuracy: 0.9976 - val_loss: 0.0124\n",
      "Epoch 35/50\n",
      "\u001b[1m20287/20287\u001b[0m \u001b[32m━━━━━━━━━━━━━━━━━━━━\u001b[0m\u001b[37m\u001b[0m \u001b[1m27s\u001b[0m 1ms/step - accuracy: 0.9965 - loss: 0.0590 - val_accuracy: 0.9974 - val_loss: 0.0109\n",
      "Epoch 36/50\n",
      "\u001b[1m20287/20287\u001b[0m \u001b[32m━━━━━━━━━━━━━━━━━━━━\u001b[0m\u001b[37m\u001b[0m \u001b[1m28s\u001b[0m 1ms/step - accuracy: 0.9966 - loss: 0.0308 - val_accuracy: 0.9975 - val_loss: 0.0127\n",
      "Epoch 37/50\n",
      "\u001b[1m20287/20287\u001b[0m \u001b[32m━━━━━━━━━━━━━━━━━━━━\u001b[0m\u001b[37m\u001b[0m \u001b[1m30s\u001b[0m 1ms/step - accuracy: 0.9966 - loss: 0.0302 - val_accuracy: 0.9975 - val_loss: 0.0113\n",
      "Epoch 38/50\n",
      "\u001b[1m20287/20287\u001b[0m \u001b[32m━━━━━━━━━━━━━━━━━━━━\u001b[0m\u001b[37m\u001b[0m \u001b[1m28s\u001b[0m 1ms/step - accuracy: 0.9968 - loss: 0.0278 - val_accuracy: 0.9975 - val_loss: 0.0104\n",
      "Epoch 39/50\n",
      "\u001b[1m20287/20287\u001b[0m \u001b[32m━━━━━━━━━━━━━━━━━━━━\u001b[0m\u001b[37m\u001b[0m \u001b[1m29s\u001b[0m 1ms/step - accuracy: 0.9969 - loss: 0.0679 - val_accuracy: 0.9975 - val_loss: 0.0103\n",
      "Epoch 40/50\n",
      "\u001b[1m20287/20287\u001b[0m \u001b[32m━━━━━━━━━━━━━━━━━━━━\u001b[0m\u001b[37m\u001b[0m \u001b[1m29s\u001b[0m 1ms/step - accuracy: 0.9968 - loss: 0.0453 - val_accuracy: 0.9975 - val_loss: 0.0121\n",
      "Epoch 41/50\n",
      "\u001b[1m20287/20287\u001b[0m \u001b[32m━━━━━━━━━━━━━━━━━━━━\u001b[0m\u001b[37m\u001b[0m \u001b[1m28s\u001b[0m 1ms/step - accuracy: 0.9966 - loss: 0.0350 - val_accuracy: 0.9974 - val_loss: 0.0105\n",
      "Epoch 42/50\n",
      "\u001b[1m20287/20287\u001b[0m \u001b[32m━━━━━━━━━━━━━━━━━━━━\u001b[0m\u001b[37m\u001b[0m \u001b[1m28s\u001b[0m 1ms/step - accuracy: 0.9967 - loss: 0.0458 - val_accuracy: 0.9973 - val_loss: 0.0108\n",
      "Epoch 43/50\n",
      "\u001b[1m20287/20287\u001b[0m \u001b[32m━━━━━━━━━━━━━━━━━━━━\u001b[0m\u001b[37m\u001b[0m \u001b[1m27s\u001b[0m 1ms/step - accuracy: 0.9965 - loss: 0.0629 - val_accuracy: 0.9973 - val_loss: 0.0104\n",
      "Epoch 44/50\n",
      "\u001b[1m20287/20287\u001b[0m \u001b[32m━━━━━━━━━━━━━━━━━━━━\u001b[0m\u001b[37m\u001b[0m \u001b[1m28s\u001b[0m 1ms/step - accuracy: 0.9966 - loss: 0.0394 - val_accuracy: 0.9971 - val_loss: 0.0115\n",
      "Epoch 45/50\n",
      "\u001b[1m20287/20287\u001b[0m \u001b[32m━━━━━━━━━━━━━━━━━━━━\u001b[0m\u001b[37m\u001b[0m \u001b[1m31s\u001b[0m 2ms/step - accuracy: 0.9966 - loss: 0.0337 - val_accuracy: 0.9973 - val_loss: 0.0095\n",
      "Epoch 46/50\n",
      "\u001b[1m20287/20287\u001b[0m \u001b[32m━━━━━━━━━━━━━━━━━━━━\u001b[0m\u001b[37m\u001b[0m \u001b[1m28s\u001b[0m 1ms/step - accuracy: 0.9966 - loss: 0.0401 - val_accuracy: 0.9970 - val_loss: 0.0131\n",
      "Epoch 47/50\n",
      "\u001b[1m20287/20287\u001b[0m \u001b[32m━━━━━━━━━━━━━━━━━━━━\u001b[0m\u001b[37m\u001b[0m \u001b[1m29s\u001b[0m 1ms/step - accuracy: 0.9964 - loss: 0.0678 - val_accuracy: 0.9971 - val_loss: 0.0102\n",
      "Epoch 48/50\n",
      "\u001b[1m20287/20287\u001b[0m \u001b[32m━━━━━━━━━━━━━━━━━━━━\u001b[0m\u001b[37m\u001b[0m \u001b[1m28s\u001b[0m 1ms/step - accuracy: 0.9967 - loss: 0.0504 - val_accuracy: 0.9971 - val_loss: 0.0125\n",
      "Epoch 49/50\n",
      "\u001b[1m20287/20287\u001b[0m \u001b[32m━━━━━━━━━━━━━━━━━━━━\u001b[0m\u001b[37m\u001b[0m \u001b[1m28s\u001b[0m 1ms/step - accuracy: 0.9965 - loss: 0.0452 - val_accuracy: 0.9974 - val_loss: 0.0131\n"
     ]
    },
    {
     "name": "stdout",
     "output_type": "stream",
     "text": [
      "Epoch 50/50\n",
      "\u001b[1m20287/20287\u001b[0m \u001b[32m━━━━━━━━━━━━━━━━━━━━\u001b[0m\u001b[37m\u001b[0m \u001b[1m27s\u001b[0m 1ms/step - accuracy: 0.9965 - loss: 0.0556 - val_accuracy: 0.9974 - val_loss: 0.0106\n"
     ]
    }
   ],
   "source": [
    "history = model.fit(X_train1, y_train1, epochs=50, batch_size=32, validation_split=0.2)"
   ]
  },
  {
   "cell_type": "markdown",
   "id": "35a5ebee",
   "metadata": {},
   "source": [
    "Since the labels are one-hot encoded, they are numerical"
   ]
  },
  {
   "cell_type": "code",
   "execution_count": 9,
   "id": "9dfe7457",
   "metadata": {},
   "outputs": [
    {
     "name": "stdout",
     "output_type": "stream",
     "text": [
      "Label Mapping:\n",
      "Airtag: 0\n",
      "Bathroom: 1\n",
      "Camera: 2\n",
      "Headphone: 3\n",
      "Kitchen: 4\n",
      "Laptop: 5\n",
      "Smartphone: 6\n",
      "Smartwatch: 7\n",
      "TV: 8\n",
      "iPad: 9\n"
     ]
    }
   ],
   "source": [
    "label_mapping = dict(zip(label_encoder.classes_, label_encoder.transform(label_encoder.classes_)))\n",
    "print(\"Label Mapping:\")\n",
    "for label, encoded_label in label_mapping.items():\n",
    "    print(f\"{label}: {encoded_label}\")"
   ]
  },
  {
   "cell_type": "code",
   "execution_count": 16,
   "id": "6a7d378b",
   "metadata": {},
   "outputs": [
    {
     "data": {
      "text/html": [
       "<pre style=\"white-space:pre;overflow-x:auto;line-height:normal;font-family:Menlo,'DejaVu Sans Mono',consolas,'Courier New',monospace\"><span style=\"font-weight: bold\">Model: \"sequential\"</span>\n",
       "</pre>\n"
      ],
      "text/plain": [
       "\u001b[1mModel: \"sequential\"\u001b[0m\n"
      ]
     },
     "metadata": {},
     "output_type": "display_data"
    },
    {
     "data": {
      "text/html": [
       "<pre style=\"white-space:pre;overflow-x:auto;line-height:normal;font-family:Menlo,'DejaVu Sans Mono',consolas,'Courier New',monospace\">┏━━━━━━━━━━━━━━━━━━━━━━━━━━━━━━━━━━━━━━┳━━━━━━━━━━━━━━━━━━━━━━━━━━━━━┳━━━━━━━━━━━━━━━━━┓\n",
       "┃<span style=\"font-weight: bold\"> Layer (type)                         </span>┃<span style=\"font-weight: bold\"> Output Shape                </span>┃<span style=\"font-weight: bold\">         Param # </span>┃\n",
       "┡━━━━━━━━━━━━━━━━━━━━━━━━━━━━━━━━━━━━━━╇━━━━━━━━━━━━━━━━━━━━━━━━━━━━━╇━━━━━━━━━━━━━━━━━┩\n",
       "│ dense (<span style=\"color: #0087ff; text-decoration-color: #0087ff\">Dense</span>)                        │ (<span style=\"color: #00d7ff; text-decoration-color: #00d7ff\">None</span>, <span style=\"color: #00af00; text-decoration-color: #00af00\">128</span>)                 │          <span style=\"color: #00af00; text-decoration-color: #00af00\">29,056</span> │\n",
       "├──────────────────────────────────────┼─────────────────────────────┼─────────────────┤\n",
       "│ dropout (<span style=\"color: #0087ff; text-decoration-color: #0087ff\">Dropout</span>)                    │ (<span style=\"color: #00d7ff; text-decoration-color: #00d7ff\">None</span>, <span style=\"color: #00af00; text-decoration-color: #00af00\">128</span>)                 │               <span style=\"color: #00af00; text-decoration-color: #00af00\">0</span> │\n",
       "├──────────────────────────────────────┼─────────────────────────────┼─────────────────┤\n",
       "│ dense_1 (<span style=\"color: #0087ff; text-decoration-color: #0087ff\">Dense</span>)                      │ (<span style=\"color: #00d7ff; text-decoration-color: #00d7ff\">None</span>, <span style=\"color: #00af00; text-decoration-color: #00af00\">128</span>)                 │          <span style=\"color: #00af00; text-decoration-color: #00af00\">16,512</span> │\n",
       "├──────────────────────────────────────┼─────────────────────────────┼─────────────────┤\n",
       "│ dropout_1 (<span style=\"color: #0087ff; text-decoration-color: #0087ff\">Dropout</span>)                  │ (<span style=\"color: #00d7ff; text-decoration-color: #00d7ff\">None</span>, <span style=\"color: #00af00; text-decoration-color: #00af00\">128</span>)                 │               <span style=\"color: #00af00; text-decoration-color: #00af00\">0</span> │\n",
       "├──────────────────────────────────────┼─────────────────────────────┼─────────────────┤\n",
       "│ dense_2 (<span style=\"color: #0087ff; text-decoration-color: #0087ff\">Dense</span>)                      │ (<span style=\"color: #00d7ff; text-decoration-color: #00d7ff\">None</span>, <span style=\"color: #00af00; text-decoration-color: #00af00\">10</span>)                  │           <span style=\"color: #00af00; text-decoration-color: #00af00\">1,290</span> │\n",
       "└──────────────────────────────────────┴─────────────────────────────┴─────────────────┘\n",
       "</pre>\n"
      ],
      "text/plain": [
       "┏━━━━━━━━━━━━━━━━━━━━━━━━━━━━━━━━━━━━━━┳━━━━━━━━━━━━━━━━━━━━━━━━━━━━━┳━━━━━━━━━━━━━━━━━┓\n",
       "┃\u001b[1m \u001b[0m\u001b[1mLayer (type)                        \u001b[0m\u001b[1m \u001b[0m┃\u001b[1m \u001b[0m\u001b[1mOutput Shape               \u001b[0m\u001b[1m \u001b[0m┃\u001b[1m \u001b[0m\u001b[1m        Param #\u001b[0m\u001b[1m \u001b[0m┃\n",
       "┡━━━━━━━━━━━━━━━━━━━━━━━━━━━━━━━━━━━━━━╇━━━━━━━━━━━━━━━━━━━━━━━━━━━━━╇━━━━━━━━━━━━━━━━━┩\n",
       "│ dense (\u001b[38;5;33mDense\u001b[0m)                        │ (\u001b[38;5;45mNone\u001b[0m, \u001b[38;5;34m128\u001b[0m)                 │          \u001b[38;5;34m29,056\u001b[0m │\n",
       "├──────────────────────────────────────┼─────────────────────────────┼─────────────────┤\n",
       "│ dropout (\u001b[38;5;33mDropout\u001b[0m)                    │ (\u001b[38;5;45mNone\u001b[0m, \u001b[38;5;34m128\u001b[0m)                 │               \u001b[38;5;34m0\u001b[0m │\n",
       "├──────────────────────────────────────┼─────────────────────────────┼─────────────────┤\n",
       "│ dense_1 (\u001b[38;5;33mDense\u001b[0m)                      │ (\u001b[38;5;45mNone\u001b[0m, \u001b[38;5;34m128\u001b[0m)                 │          \u001b[38;5;34m16,512\u001b[0m │\n",
       "├──────────────────────────────────────┼─────────────────────────────┼─────────────────┤\n",
       "│ dropout_1 (\u001b[38;5;33mDropout\u001b[0m)                  │ (\u001b[38;5;45mNone\u001b[0m, \u001b[38;5;34m128\u001b[0m)                 │               \u001b[38;5;34m0\u001b[0m │\n",
       "├──────────────────────────────────────┼─────────────────────────────┼─────────────────┤\n",
       "│ dense_2 (\u001b[38;5;33mDense\u001b[0m)                      │ (\u001b[38;5;45mNone\u001b[0m, \u001b[38;5;34m10\u001b[0m)                  │           \u001b[38;5;34m1,290\u001b[0m │\n",
       "└──────────────────────────────────────┴─────────────────────────────┴─────────────────┘\n"
      ]
     },
     "metadata": {},
     "output_type": "display_data"
    },
    {
     "data": {
      "text/html": [
       "<pre style=\"white-space:pre;overflow-x:auto;line-height:normal;font-family:Menlo,'DejaVu Sans Mono',consolas,'Courier New',monospace\"><span style=\"font-weight: bold\"> Total params: </span><span style=\"color: #00af00; text-decoration-color: #00af00\">140,576</span> (549.13 KB)\n",
       "</pre>\n"
      ],
      "text/plain": [
       "\u001b[1m Total params: \u001b[0m\u001b[38;5;34m140,576\u001b[0m (549.13 KB)\n"
      ]
     },
     "metadata": {},
     "output_type": "display_data"
    },
    {
     "data": {
      "text/html": [
       "<pre style=\"white-space:pre;overflow-x:auto;line-height:normal;font-family:Menlo,'DejaVu Sans Mono',consolas,'Courier New',monospace\"><span style=\"font-weight: bold\"> Trainable params: </span><span style=\"color: #00af00; text-decoration-color: #00af00\">46,858</span> (183.04 KB)\n",
       "</pre>\n"
      ],
      "text/plain": [
       "\u001b[1m Trainable params: \u001b[0m\u001b[38;5;34m46,858\u001b[0m (183.04 KB)\n"
      ]
     },
     "metadata": {},
     "output_type": "display_data"
    },
    {
     "data": {
      "text/html": [
       "<pre style=\"white-space:pre;overflow-x:auto;line-height:normal;font-family:Menlo,'DejaVu Sans Mono',consolas,'Courier New',monospace\"><span style=\"font-weight: bold\"> Non-trainable params: </span><span style=\"color: #00af00; text-decoration-color: #00af00\">0</span> (0.00 B)\n",
       "</pre>\n"
      ],
      "text/plain": [
       "\u001b[1m Non-trainable params: \u001b[0m\u001b[38;5;34m0\u001b[0m (0.00 B)\n"
      ]
     },
     "metadata": {},
     "output_type": "display_data"
    },
    {
     "data": {
      "text/html": [
       "<pre style=\"white-space:pre;overflow-x:auto;line-height:normal;font-family:Menlo,'DejaVu Sans Mono',consolas,'Courier New',monospace\"><span style=\"font-weight: bold\"> Optimizer params: </span><span style=\"color: #00af00; text-decoration-color: #00af00\">93,718</span> (366.09 KB)\n",
       "</pre>\n"
      ],
      "text/plain": [
       "\u001b[1m Optimizer params: \u001b[0m\u001b[38;5;34m93,718\u001b[0m (366.09 KB)\n"
      ]
     },
     "metadata": {},
     "output_type": "display_data"
    }
   ],
   "source": [
    "model.summary()"
   ]
  },
  {
   "cell_type": "markdown",
   "id": "6615dd30",
   "metadata": {},
   "source": [
    "ACHTUNG SAVE"
   ]
  },
  {
   "cell_type": "code",
   "execution_count": 17,
   "id": "10042354",
   "metadata": {},
   "outputs": [],
   "source": [
    "np.savez('csv 20 minutes/labeled2/features_final/together/train_test_data_MLP1.npz', X_train1=X_train1, X_test1=X_test1, y_train1=y_train1, y_test1=y_test1)"
   ]
  },
  {
   "cell_type": "code",
   "execution_count": 18,
   "id": "81f4a5aa",
   "metadata": {},
   "outputs": [
    {
     "name": "stderr",
     "output_type": "stream",
     "text": [
      "WARNING:absl:You are saving your model as an HDF5 file via `model.save()` or `keras.saving.save_model(model)`. This file format is considered legacy. We recommend using instead the native Keras format, e.g. `model.save('my_model.keras')` or `keras.saving.save_model(model, 'my_model.keras')`. \n"
     ]
    }
   ],
   "source": [
    "model.save('csv 20 minutes/labeled2/features_final/together/MLP1.h5')"
   ]
  },
  {
   "cell_type": "code",
   "execution_count": 19,
   "id": "39554a34",
   "metadata": {},
   "outputs": [],
   "source": [
    "model.save('csv 20 minutes/labeled2/features_final/together/MLP1.keras')"
   ]
  },
  {
   "cell_type": "markdown",
   "id": "8fe0d591",
   "metadata": {},
   "source": [
    "ACHTUNG LOAD"
   ]
  },
  {
   "cell_type": "code",
   "execution_count": 10,
   "id": "e852906d",
   "metadata": {},
   "outputs": [],
   "source": [
    "data = np.load('csv 20 minutes/labeled2/features_final/together/train_test_data_MLP1.npz')\n",
    "X_train1 = data['X_train1']\n",
    "X_test1 = data['X_test1']\n",
    "y_train1 = data['y_train1']\n",
    "y_test1 = data['y_test1']"
   ]
  },
  {
   "cell_type": "code",
   "execution_count": 11,
   "id": "349ec5e6",
   "metadata": {},
   "outputs": [],
   "source": [
    "model = load_model('csv 20 minutes/labeled2/features_final/together/MLP1.keras')"
   ]
  },
  {
   "cell_type": "markdown",
   "id": "a1cecf0d",
   "metadata": {},
   "source": [
    "## ACCURACY"
   ]
  },
  {
   "cell_type": "code",
   "execution_count": 45,
   "id": "4bc29ab6",
   "metadata": {},
   "outputs": [
    {
     "name": "stdout",
     "output_type": "stream",
     "text": [
      "\u001b[1m2818/2818\u001b[0m \u001b[32m━━━━━━━━━━━━━━━━━━━━\u001b[0m\u001b[37m\u001b[0m \u001b[1m6s\u001b[0m 2ms/step\n",
      "\u001b[1m25359/25359\u001b[0m \u001b[32m━━━━━━━━━━━━━━━━━━━━\u001b[0m\u001b[37m\u001b[0m \u001b[1m53s\u001b[0m 2ms/step\n",
      "Test Accuracy: 0.9976819759768419\n",
      "Training Accuracy: 0.9976622384344268\n"
     ]
    }
   ],
   "source": [
    "y_pred_test = model.predict(X_test1)\n",
    "y_pred_train = model.predict(X_train1)\n",
    "\n",
    "# Convert numerical labels back to string labels\n",
    "y_pred_test_labels = y_pred_test.argmax(axis=1)\n",
    "y_pred_train_labels = y_pred_train.argmax(axis=1)\n",
    "y_test_labels = y_test1.argmax(axis=1)\n",
    "y_train_labels = y_train1.argmax(axis=1)\n",
    "\n",
    "accuracy_test = accuracy_score(y_test_labels, y_pred_test_labels)\n",
    "accuracy_train = accuracy_score(y_train_labels, y_pred_train_labels)\n",
    "\n",
    "print(\"Test Accuracy:\", accuracy_test)\n",
    "print(\"Training Accuracy:\", accuracy_train)"
   ]
  },
  {
   "cell_type": "markdown",
   "id": "2834fcad",
   "metadata": {},
   "source": [
    "## ACCURACY OF EACH DEVICE TYPE"
   ]
  },
  {
   "cell_type": "code",
   "execution_count": 46,
   "id": "d57b3f29",
   "metadata": {},
   "outputs": [
    {
     "name": "stdout",
     "output_type": "stream",
     "text": [
      "\u001b[1m2818/2818\u001b[0m \u001b[32m━━━━━━━━━━━━━━━━━━━━\u001b[0m\u001b[37m\u001b[0m \u001b[1m3s\u001b[0m 888us/step\n",
      "\u001b[1m25359/25359\u001b[0m \u001b[32m━━━━━━━━━━━━━━━━━━━━\u001b[0m\u001b[37m\u001b[0m \u001b[1m28s\u001b[0m 1ms/step\n",
      "Overall Testing Accuracy: 0.9976819759768419\n",
      "Overall Training Accuracy: 0.9976622384344268\n",
      "Testing Accuracy for Airtag : 0.9801365611421478\n",
      "Testing Accuracy for Bathroom : 0.998695318495779\n",
      "Testing Accuracy for Camera : 0.9990100517819068\n",
      "Testing Accuracy for Headphone : 0.9987534626038781\n",
      "Testing Accuracy for Kitchen : 0.9982046678635548\n",
      "Testing Accuracy for Laptop : 0.9977060591678532\n",
      "Testing Accuracy for Smartphone : 0.9984120682810639\n",
      "Testing Accuracy for Smartwatch : 0.9996373197932723\n",
      "Testing Accuracy for TV : 0.9889404209775241\n",
      "Testing Accuracy for iPad : 0.9944007465671244\n"
     ]
    }
   ],
   "source": [
    "y_pred_test = np.argmax(model.predict(X_test1), axis=1)\n",
    "y_pred_train = np.argmax(model.predict(X_train1), axis=1)\n",
    "y_test_labels = np.argmax(y_test1, axis=1)\n",
    "y_train_labels = np.argmax(y_train1, axis=1)\n",
    "\n",
    "overall_accuracy_test = accuracy_score(y_test_labels, y_pred_test)\n",
    "overall_accuracy_train = accuracy_score(y_train_labels, y_pred_train)\n",
    "print(\"Overall Testing Accuracy:\", overall_accuracy_test)\n",
    "print(\"Overall Training Accuracy:\", overall_accuracy_train)\n",
    "\n",
    "mapping_dict = {0: 'Airtag',\n",
    "                1: 'Bathroom',\n",
    "                2: 'Camera',\n",
    "                3: 'Headphone',\n",
    "                4: 'Kitchen',\n",
    "                5: 'Laptop',\n",
    "                6: 'Smartphone',\n",
    "                7: 'Smartwatch', \n",
    "                8: 'TV',\n",
    "                9: 'iPad'\n",
    "}\n",
    "\n",
    "unique_labels = np.unique(y_test_labels)\n",
    "for label in unique_labels:\n",
    "    mask_test = (y_test_labels == label)\n",
    "    accuracy_test = accuracy_score(y_test_labels[mask_test], y_pred_test[mask_test])\n",
    "    device_type = mapping_dict[label] \n",
    "    print(\"Testing Accuracy for\", device_type, \":\", accuracy_test)"
   ]
  },
  {
   "cell_type": "markdown",
   "id": "f204bd4b",
   "metadata": {},
   "source": [
    "## PRECISION, RECALL, SPECIFICITY, F1-SCORE"
   ]
  },
  {
   "cell_type": "code",
   "execution_count": 48,
   "id": "5338d0a9",
   "metadata": {},
   "outputs": [
    {
     "name": "stdout",
     "output_type": "stream",
     "text": [
      "        label  precision    recall  specificity  f1-score     tp   fp     tn  \\\n",
      "0      Airtag   0.991834  0.980137     0.999853  0.985951   1579   13  88539   \n",
      "1    Bathroom   0.999923  0.998695     0.999987  0.999309  13013    1  77132   \n",
      "2      Camera   0.999924  0.999010     0.999987  0.999467  13119    1  77030   \n",
      "3   Headphone   0.999931  0.998753     0.999987  0.999342  14422    1  75722   \n",
      "4     Kitchen   1.000000  0.998205     1.000000  0.999102   3892    0  86264   \n",
      "5      Laptop   0.999762  0.997706     0.999961  0.998733  12613    3  77518   \n",
      "6  Smartphone   1.000000  0.998412     1.000000  0.999205  10060    0  80087   \n",
      "7  Smartwatch   0.984199  0.999637     0.997763  0.991858  11025  177  78957   \n",
      "8          TV   0.998919  0.988940     0.999966  0.993905   2772    3  87357   \n",
      "9        iPad   0.998661  0.994401     0.999879  0.996526   7459   10  82652   \n",
      "\n",
      "   fn  \n",
      "0  32  \n",
      "1  17  \n",
      "2  13  \n",
      "3  18  \n",
      "4   7  \n",
      "5  29  \n",
      "6  16  \n",
      "7   4  \n",
      "8  31  \n",
      "9  42  \n"
     ]
    }
   ],
   "source": [
    "report = classification_report(y_test_labels, y_pred_test_labels, target_names=label_encoder.classes_, output_dict=True)\n",
    "conf_matrix = confusion_matrix(y_test_labels, y_pred_test_labels)\n",
    "\n",
    "labels = label_encoder.classes_\n",
    "metrics = []\n",
    "\n",
    "for i, label in enumerate(labels):\n",
    "    tn = conf_matrix.sum() - (conf_matrix[:, i].sum() + conf_matrix[i, :].sum() - conf_matrix[i, i])\n",
    "    tp = conf_matrix[i, i]\n",
    "    fn = conf_matrix[i, :].sum() - tp\n",
    "    fp = conf_matrix[:, i].sum() - tp\n",
    "    \n",
    "    precision = report[label]['precision']\n",
    "    recall = report[label]['recall']\n",
    "    f1 = report[label]['f1-score']\n",
    "    specificity = tn / (tn + fp)\n",
    "    \n",
    "    metrics.append({\n",
    "        'label': label,\n",
    "        'precision': precision,\n",
    "        'recall': recall,\n",
    "        'specificity': specificity,\n",
    "        'f1-score': f1,\n",
    "        'tp': tp,\n",
    "        'fp': fp,\n",
    "        'tn': tn,\n",
    "        'fn': fn\n",
    "    })\n",
    "\n",
    "print(pd.DataFrame(metrics))"
   ]
  },
  {
   "cell_type": "markdown",
   "id": "77981235",
   "metadata": {},
   "source": [
    "# CONFUSION MATRIX"
   ]
  },
  {
   "cell_type": "code",
   "execution_count": 15,
   "id": "44ebffa3",
   "metadata": {},
   "outputs": [
    {
     "name": "stdout",
     "output_type": "stream",
     "text": [
      "\u001b[1m2818/2818\u001b[0m \u001b[32m━━━━━━━━━━━━━━━━━━━━\u001b[0m\u001b[37m\u001b[0m \u001b[1m2s\u001b[0m 682us/step\n"
     ]
    },
    {
     "data": {
      "image/png": "[encoded data removed]",
      "text/plain": [
       "<Figure size 720x576 with 2 Axes>"
      ]
     },
     "metadata": {
      "needs_background": "light"
     },
     "output_type": "display_data"
    }
   ],
   "source": [
    "def replace_airtag(label):\n",
    "    if label == 'Airtag':\n",
    "        return 'AirTag'\n",
    "    else:\n",
    "        return label\n",
    "class_labels = [replace_airtag(label) for label in label_encoder.classes_]\n",
    "\n",
    "conf_matrix = confusion_matrix(y_test_labels, y_pred_test)\n",
    "plt.figure(figsize=(10, 8))\n",
    "sns.heatmap(conf_matrix, annot=True, fmt='d', cmap='Blues', \n",
    "            xticklabels=class_labels, \n",
    "            yticklabels=class_labels)\n",
    "plt.xlabel('Predicted Labels')\n",
    "plt.ylabel('True Labels')\n",
    "plt.title('Confusion Matrix')\n",
    "plt.savefig('Classification/Confusion Matrix MLP1.png', bbox_inches='tight')\n",
    "plt.show()"
   ]
  },
  {
   "cell_type": "markdown",
   "id": "2c081b35",
   "metadata": {},
   "source": [
    "## CHECK OVERFITTING"
   ]
  },
  {
   "cell_type": "code",
   "execution_count": 32,
   "id": "384c2204",
   "metadata": {},
   "outputs": [
    {
     "name": "stdout",
     "output_type": "stream",
     "text": [
      "\u001b[1m25359/25359\u001b[0m \u001b[32m━━━━━━━━━━━━━━━━━━━━\u001b[0m\u001b[37m\u001b[0m \u001b[1m21s\u001b[0m 838us/step\n",
      "\u001b[1m2818/2818\u001b[0m \u001b[32m━━━━━━━━━━━━━━━━━━━━\u001b[0m\u001b[37m\u001b[0m \u001b[1m3s\u001b[0m 953us/step\n",
      "Train Accuracy: 0.9976622384344268\n",
      "Test Accuracy: 0.9976819759768419\n"
     ]
    }
   ],
   "source": [
    "# Comparing training and test accuracies\n",
    "y_pred_train = np.argmax(model.predict(X_train1), axis=1)\n",
    "y_pred_test = np.argmax(model.predict(X_test1), axis=1)\n",
    "\n",
    "train_accuracy = accuracy_score(y_train_labels, y_pred_train)\n",
    "test_accuracy = accuracy_score(y_test_labels, y_pred_test)\n",
    "print(\"Train Accuracy:\", train_accuracy)\n",
    "print(\"Test Accuracy:\", test_accuracy)"
   ]
  },
  {
   "cell_type": "markdown",
   "id": "dd9d23ba",
   "metadata": {},
   "source": [
    "# TRAIN MLP ON SELECTED FEATURES"
   ]
  },
  {
   "cell_type": "markdown",
   "id": "9a8571e8",
   "metadata": {},
   "source": [
    "Need to preprocess the data again cause not able to open the file 'all_data_final' because of its size"
   ]
  },
  {
   "cell_type": "code",
   "execution_count": 50,
   "id": "6801ec53",
   "metadata": {},
   "outputs": [
    {
     "name": "stdout",
     "output_type": "stream",
     "text": [
      "['PDU Type', 'Info', 'Channel Selection Algorithm', 'Tx Address', 'Rx Address', 'Simultaneous LE and BR/EDR to Same Device Capable (Host)', 'Simultaneous LE and BR/EDR to Same Device Capable (Controller)', 'BR/EDR Not Supported', 'LE General Discoverable Mode', 'LE Limited Discoverable Mode', 'label', 'subcategory', 'Packet Direction']\n",
      "Total number of rows: 901623\n",
      "Rows with NaN values:\n"
     ]
    }
   ],
   "source": [
    "def get_feature_types(df):\n",
    "    numerical_features = []\n",
    "    categorical_features = []\n",
    "    boolean_features = []\n",
    "    for column_name, column_type in df.dtypes.items():\n",
    "        if column_type in ['int64', 'float64']:\n",
    "            numerical_features.append(column_name)\n",
    "        elif column_type == 'object':\n",
    "            categorical_features.append(column_name)\n",
    "        elif column_type == 'bool':\n",
    "            boolean_features.append(column_name)\n",
    "    return numerical_features, categorical_features, boolean_features\n",
    "\n",
    "numerical_features, categorical_features, boolean_features = get_feature_types(data)\n",
    "\n",
    "def one_hot_encode_features(data, categorical_features):\n",
    "    if 'label' in categorical_features:\n",
    "        categorical_features.remove('label')\n",
    "    if 'subcategory' in categorical_features:\n",
    "        categorical_features.remove('subcategory')\n",
    "    data = pd.get_dummies(data, columns=categorical_features, drop_first=True)\n",
    "    return data\n",
    "\n",
    "data = one_hot_encode_features(data, categorical_features)\n",
    "data.fillna(0, inplace=True)"
   ]
  },
  {
   "cell_type": "code",
   "execution_count": 30,
   "id": "235cd75a",
   "metadata": {},
   "outputs": [
    {
     "name": "stdout",
     "output_type": "stream",
     "text": [
      "\u001b[1m22541/22541\u001b[0m \u001b[32m━━━━━━━━━━━━━━━━━━━━\u001b[0m\u001b[37m\u001b[0m \u001b[1m17s\u001b[0m 738us/step\n",
      "\u001b[1m5636/5636\u001b[0m \u001b[32m━━━━━━━━━━━━━━━━━━━━\u001b[0m\u001b[37m\u001b[0m \u001b[1m4s\u001b[0m 710us/step\n",
      "Number of features: 1, Train accuracy: 0.7418265404867337, Test accuracy: 0.7393206710106752\n",
      "\u001b[1m22541/22541\u001b[0m \u001b[32m━━━━━━━━━━━━━━━━━━━━\u001b[0m\u001b[37m\u001b[0m \u001b[1m16s\u001b[0m 715us/step\n",
      "\u001b[1m5636/5636\u001b[0m \u001b[32m━━━━━━━━━━━━━━━━━━━━\u001b[0m\u001b[37m\u001b[0m \u001b[1m4s\u001b[0m 749us/step\n",
      "Number of features: 2, Train accuracy: 0.8234571564041492, Test accuracy: 0.8206294191043948\n",
      "\u001b[1m22541/22541\u001b[0m \u001b[32m━━━━━━━━━━━━━━━━━━━━\u001b[0m\u001b[37m\u001b[0m \u001b[1m16s\u001b[0m 715us/step\n",
      "\u001b[1m5636/5636\u001b[0m \u001b[32m━━━━━━━━━━━━━━━━━━━━\u001b[0m\u001b[37m\u001b[0m \u001b[1m4s\u001b[0m 721us/step\n",
      "Number of features: 3, Train accuracy: 0.9383486436951163, Test accuracy: 0.9368529044780258\n",
      "\u001b[1m22541/22541\u001b[0m \u001b[32m━━━━━━━━━━━━━━━━━━━━\u001b[0m\u001b[37m\u001b[0m \u001b[1m16s\u001b[0m 701us/step\n",
      "\u001b[1m5636/5636\u001b[0m \u001b[32m━━━━━━━━━━━━━━━━━━━━\u001b[0m\u001b[37m\u001b[0m \u001b[1m4s\u001b[0m 674us/step\n",
      "Number of features: 4, Train accuracy: 0.9283707981999119, Test accuracy: 0.9270705670317483\n",
      "\u001b[1m22541/22541\u001b[0m \u001b[32m━━━━━━━━━━━━━━━━━━━━\u001b[0m\u001b[37m\u001b[0m \u001b[1m16s\u001b[0m 723us/step\n",
      "\u001b[1m5636/5636\u001b[0m \u001b[32m━━━━━━━━━━━━━━━━━━━━\u001b[0m\u001b[37m\u001b[0m \u001b[1m4s\u001b[0m 784us/step\n",
      "Number of features: 5, Train accuracy: 0.9678080349591985, Test accuracy: 0.9671814778871483\n",
      "\u001b[1m22541/22541\u001b[0m \u001b[32m━━━━━━━━━━━━━━━━━━━━\u001b[0m\u001b[37m\u001b[0m \u001b[1m18s\u001b[0m 804us/step\n",
      "\u001b[1m5636/5636\u001b[0m \u001b[32m━━━━━━━━━━━━━━━━━━━━\u001b[0m\u001b[37m\u001b[0m \u001b[1m4s\u001b[0m 695us/step\n",
      "Number of features: 6, Train accuracy: 0.9744932053048809, Test accuracy: 0.9739470400665465\n",
      "\u001b[1m22541/22541\u001b[0m \u001b[32m━━━━━━━━━━━━━━━━━━━━\u001b[0m\u001b[37m\u001b[0m \u001b[1m16s\u001b[0m 694us/step\n",
      "\u001b[1m5636/5636\u001b[0m \u001b[32m━━━━━━━━━━━━━━━━━━━━\u001b[0m\u001b[37m\u001b[0m \u001b[1m4s\u001b[0m 668us/step\n",
      "Number of features: 7, Train accuracy: 0.9777276520938641, Test accuracy: 0.9774240953833356\n",
      "\u001b[1m22541/22541\u001b[0m \u001b[32m━━━━━━━━━━━━━━━━━━━━\u001b[0m\u001b[37m\u001b[0m \u001b[1m17s\u001b[0m 753us/step\n",
      "\u001b[1m5636/5636\u001b[0m \u001b[32m━━━━━━━━━━━━━━━━━━━━\u001b[0m\u001b[37m\u001b[0m \u001b[1m4s\u001b[0m 716us/step\n",
      "Number of features: 8, Train accuracy: 0.9786246461240707, Test accuracy: 0.9782670178843754\n",
      "\u001b[1m22541/22541\u001b[0m \u001b[32m━━━━━━━━━━━━━━━━━━━━\u001b[0m\u001b[37m\u001b[0m \u001b[1m19s\u001b[0m 844us/step\n",
      "\u001b[1m5636/5636\u001b[0m \u001b[32m━━━━━━━━━━━━━━━━━━━━\u001b[0m\u001b[37m\u001b[0m \u001b[1m5s\u001b[0m 880us/step\n",
      "Number of features: 9, Train accuracy: 0.9878455229322693, Test accuracy: 0.9876057119090531\n",
      "\u001b[1m22541/22541\u001b[0m \u001b[32m━━━━━━━━━━━━━━━━━━━━\u001b[0m\u001b[37m\u001b[0m \u001b[1m18s\u001b[0m 793us/step\n",
      "\u001b[1m5636/5636\u001b[0m \u001b[32m━━━━━━━━━━━━━━━━━━━━\u001b[0m\u001b[37m\u001b[0m \u001b[1m4s\u001b[0m 762us/step\n",
      "Number of features: 10, Train accuracy: 0.9920656926818042, Test accuracy: 0.9919534174407321\n",
      "\u001b[1m22541/22541\u001b[0m \u001b[32m━━━━━━━━━━━━━━━━━━━━\u001b[0m\u001b[37m\u001b[0m \u001b[1m21s\u001b[0m 918us/step\n",
      "\u001b[1m5636/5636\u001b[0m \u001b[32m━━━━━━━━━━━━━━━━━━━━\u001b[0m\u001b[37m\u001b[0m \u001b[1m5s\u001b[0m 944us/step\n",
      "Number of features: 11, Train accuracy: 0.9900748373071879, Test accuracy: 0.9901178427838625\n",
      "\u001b[1m22541/22541\u001b[0m \u001b[32m━━━━━━━━━━━━━━━━━━━━\u001b[0m\u001b[37m\u001b[0m \u001b[1m20s\u001b[0m 896us/step\n",
      "\u001b[1m5636/5636\u001b[0m \u001b[32m━━━━━━━━━━━━━━━━━━━━\u001b[0m\u001b[37m\u001b[0m \u001b[1m5s\u001b[0m 948us/step\n",
      "Number of features: 12, Train accuracy: 0.990587801435745, Test accuracy: 0.9907666712879523\n",
      "\u001b[1m22541/22541\u001b[0m \u001b[32m━━━━━━━━━━━━━━━━━━━━\u001b[0m\u001b[37m\u001b[0m \u001b[1m21s\u001b[0m 938us/step\n",
      "\u001b[1m5636/5636\u001b[0m \u001b[32m━━━━━━━━━━━━━━━━━━━━\u001b[0m\u001b[37m\u001b[0m \u001b[1m6s\u001b[0m 1ms/step\n",
      "Number of features: 13, Train accuracy: 0.9905365050228893, Test accuracy: 0.9903840288368224\n",
      "\u001b[1m22541/22541\u001b[0m \u001b[32m━━━━━━━━━━━━━━━━━━━━\u001b[0m\u001b[37m\u001b[0m \u001b[1m17s\u001b[0m 731us/step\n",
      "\u001b[1m5636/5636\u001b[0m \u001b[32m━━━━━━━━━━━━━━━━━━━━\u001b[0m\u001b[37m\u001b[0m \u001b[1m4s\u001b[0m 730us/step\n",
      "Number of features: 14, Train accuracy: 0.9929169358573017, Test accuracy: 0.9928296131983918\n",
      "\u001b[1m22541/22541\u001b[0m \u001b[32m━━━━━━━━━━━━━━━━━━━━\u001b[0m\u001b[37m\u001b[0m \u001b[1m18s\u001b[0m 781us/step\n",
      "\u001b[1m5636/5636\u001b[0m \u001b[32m━━━━━━━━━━━━━━━━━━━━\u001b[0m\u001b[37m\u001b[0m \u001b[1m4s\u001b[0m 750us/step\n",
      "Number of features: 15, Train accuracy: 0.9961458370881383, Test accuracy: 0.995962844863441\n",
      "\u001b[1m22541/22541\u001b[0m \u001b[32m━━━━━━━━━━━━━━━━━━━━\u001b[0m\u001b[37m\u001b[0m \u001b[1m17s\u001b[0m 770us/step\n",
      "\u001b[1m5636/5636\u001b[0m \u001b[32m━━━━━━━━━━━━━━━━━━━━\u001b[0m\u001b[37m\u001b[0m \u001b[1m4s\u001b[0m 761us/step\n",
      "Number of features: 16, Train accuracy: 0.9969457838507801, Test accuracy: 0.9967336753084708\n",
      "\u001b[1m22541/22541\u001b[0m \u001b[32m━━━━━━━━━━━━━━━━━━━━\u001b[0m\u001b[37m\u001b[0m \u001b[1m16s\u001b[0m 723us/step\n",
      "\u001b[1m5636/5636\u001b[0m \u001b[32m━━━━━━━━━━━━━━━━━━━━\u001b[0m\u001b[37m\u001b[0m \u001b[1m4s\u001b[0m 741us/step\n",
      "Number of features: 17, Train accuracy: 0.9963704321930742, Test accuracy: 0.9961569388603909\n",
      "\u001b[1m22541/22541\u001b[0m \u001b[32m━━━━━━━━━━━━━━━━━━━━\u001b[0m\u001b[37m\u001b[0m \u001b[1m17s\u001b[0m 751us/step\n",
      "\u001b[1m5636/5636\u001b[0m \u001b[32m━━━━━━━━━━━━━━━━━━━━\u001b[0m\u001b[37m\u001b[0m \u001b[1m4s\u001b[0m 749us/step\n",
      "Number of features: 18, Train accuracy: 0.9968293271297023, Test accuracy: 0.9967392208512408\n",
      "\u001b[1m22541/22541\u001b[0m \u001b[32m━━━━━━━━━━━━━━━━━━━━\u001b[0m\u001b[37m\u001b[0m \u001b[1m17s\u001b[0m 745us/step\n",
      "\u001b[1m5636/5636\u001b[0m \u001b[32m━━━━━━━━━━━━━━━━━━━━\u001b[0m\u001b[37m\u001b[0m \u001b[1m4s\u001b[0m 787us/step\n",
      "Number of features: 19, Train accuracy: 0.9968251679610923, Test accuracy: 0.9966782198807709\n",
      "\u001b[1m22541/22541\u001b[0m \u001b[32m━━━━━━━━━━━━━━━━━━━━\u001b[0m\u001b[37m\u001b[0m \u001b[1m18s\u001b[0m 799us/step\n",
      "\u001b[1m5636/5636\u001b[0m \u001b[32m━━━━━━━━━━━━━━━━━━━━\u001b[0m\u001b[37m\u001b[0m \u001b[1m4s\u001b[0m 767us/step\n",
      "Number of features: 20, Train accuracy: 0.9967405981993572, Test accuracy: 0.9966116733675309\n",
      "\u001b[1m22541/22541\u001b[0m \u001b[32m━━━━━━━━━━━━━━━━━━━━\u001b[0m\u001b[37m\u001b[0m \u001b[1m17s\u001b[0m 752us/step\n",
      "\u001b[1m5636/5636\u001b[0m \u001b[32m━━━━━━━━━━━━━━━━━━━━\u001b[0m\u001b[37m\u001b[0m \u001b[1m5s\u001b[0m 905us/step\n",
      "Number of features: 21, Train accuracy: 0.9982323533407829, Test accuracy: 0.9980424234021905\n",
      "\u001b[1m22541/22541\u001b[0m \u001b[32m━━━━━━━━━━━━━━━━━━━━\u001b[0m\u001b[37m\u001b[0m \u001b[1m18s\u001b[0m 807us/step\n",
      "\u001b[1m5636/5636\u001b[0m \u001b[32m━━━━━━━━━━━━━━━━━━━━\u001b[0m\u001b[37m\u001b[0m \u001b[1m5s\u001b[0m 884us/step\n",
      "Number of features: 22, Train accuracy: 0.9978289139856203, Test accuracy: 0.9977318730070706\n",
      "\u001b[1m22541/22541\u001b[0m \u001b[32m━━━━━━━━━━━━━━━━━━━━\u001b[0m\u001b[37m\u001b[0m \u001b[1m19s\u001b[0m 818us/step\n",
      "\u001b[1m5636/5636\u001b[0m \u001b[32m━━━━━━━━━━━━━━━━━━━━\u001b[0m\u001b[37m\u001b[0m \u001b[1m5s\u001b[0m 859us/step\n",
      "Number of features: 23, Train accuracy: 0.9978053453634975, Test accuracy: 0.9977429640926105\n",
      "\u001b[1m22541/22541\u001b[0m \u001b[32m━━━━━━━━━━━━━━━━━━━━\u001b[0m\u001b[37m\u001b[0m \u001b[1m17s\u001b[0m 735us/step\n",
      "\u001b[1m5636/5636\u001b[0m \u001b[32m━━━━━━━━━━━━━━━━━━━━\u001b[0m\u001b[37m\u001b[0m \u001b[1m6s\u001b[0m 1ms/step\n",
      "Number of features: 24, Train accuracy: 0.9979869623927974, Test accuracy: 0.9978982392901705\n",
      "\u001b[1m22541/22541\u001b[0m \u001b[32m━━━━━━━━━━━━━━━━━━━━\u001b[0m\u001b[37m\u001b[0m \u001b[1m17s\u001b[0m 755us/step\n",
      "\u001b[1m5636/5636\u001b[0m \u001b[32m━━━━━━━━━━━━━━━━━━━━\u001b[0m\u001b[37m\u001b[0m \u001b[1m4s\u001b[0m 738us/step\n",
      "Number of features: 25, Train accuracy: 0.997903779020599, Test accuracy: 0.9978483294052405\n",
      "\u001b[1m22541/22541\u001b[0m \u001b[32m━━━━━━━━━━━━━━━━━━━━\u001b[0m\u001b[37m\u001b[0m \u001b[1m19s\u001b[0m 841us/step\n",
      "\u001b[1m5636/5636\u001b[0m \u001b[32m━━━━━━━━━━━━━━━━━━━━\u001b[0m\u001b[37m\u001b[0m \u001b[1m4s\u001b[0m 753us/step\n",
      "Number of features: 26, Train accuracy: 0.9979786440555776, Test accuracy: 0.9978705115763206\n",
      "\u001b[1m22541/22541\u001b[0m \u001b[32m━━━━━━━━━━━━━━━━━━━━\u001b[0m\u001b[37m\u001b[0m \u001b[1m18s\u001b[0m 794us/step\n",
      "\u001b[1m5636/5636\u001b[0m \u001b[32m━━━━━━━━━━━━━━━━━━━━\u001b[0m\u001b[37m\u001b[0m \u001b[1m5s\u001b[0m 917us/step\n",
      "Number of features: 27, Train accuracy: 0.9982046255500501, Test accuracy: 0.9980479689449605\n",
      "\u001b[1m22541/22541\u001b[0m \u001b[32m━━━━━━━━━━━━━━━━━━━━\u001b[0m\u001b[37m\u001b[0m \u001b[1m18s\u001b[0m 794us/step\n",
      "\u001b[1m5636/5636\u001b[0m \u001b[32m━━━━━━━━━━━━━━━━━━━━\u001b[0m\u001b[37m\u001b[0m \u001b[1m5s\u001b[0m 817us/step\n",
      "Number of features: 28, Train accuracy: 0.9978275275960837, Test accuracy: 0.9976764175793705\n",
      "\u001b[1m22541/22541\u001b[0m \u001b[32m━━━━━━━━━━━━━━━━━━━━\u001b[0m\u001b[37m\u001b[0m \u001b[1m50s\u001b[0m 2ms/step\n",
      "\u001b[1m5636/5636\u001b[0m \u001b[32m━━━━━━━━━━━━━━━━━━━━\u001b[0m\u001b[37m\u001b[0m \u001b[1m13s\u001b[0m 2ms/step\n",
      "Number of features: 29, Train accuracy: 0.997992507950944, Test accuracy: 0.9977706918064606\n",
      "\u001b[1m22541/22541\u001b[0m \u001b[32m━━━━━━━━━━━━━━━━━━━━\u001b[0m\u001b[37m\u001b[0m \u001b[1m49s\u001b[0m 2ms/step\n",
      "\u001b[1m5636/5636\u001b[0m \u001b[32m━━━━━━━━━━━━━━━━━━━━\u001b[0m\u001b[37m\u001b[0m \u001b[1m10s\u001b[0m 2ms/step\n",
      "Number of features: 30, Train accuracy: 0.9981089646720218, Test accuracy: 0.9978982392901705\n",
      "Best number of features: 27, Highest Test accuracy: 0.9980479689449605\n"
     ]
    },
    {
     "data": {
      "image/png": "[encoded data removed]",
      "text/plain": [
       "<Figure size 432x288 with 1 Axes>"
      ]
     },
     "metadata": {
      "needs_background": "light"
     },
     "output_type": "display_data"
    }
   ],
   "source": [
    "# selected features from filter selection method\n",
    "top_features = [\n",
    "    \"Nr Forward Packets 1\",\n",
    "    \"Number of Packets 1\",\n",
    "    \"Sum Payload Length 1\",\n",
    "    \"Sum Packet Length 1\", \n",
    "    \"Sum RSSI 1\", \n",
    "    \"Nr Backward Packets 1\",\n",
    "    \"Min Payload Length 1\",\n",
    "    \"Min Packet Length 1\",\n",
    "    \"Min RSSI 1\", \n",
    "    \"Info_ADV_NONCONN_IND\",\n",
    "    \"PDU Type_0x2\", \n",
    "    \"LE Limited Discoverable Mode_True\", \n",
    "    \"BR/EDR Not Supported_True\", \n",
    "    \"Duration 1\", \n",
    "    \"Average RSSI 1\",\n",
    "    \"Average Packet Length 1\", \n",
    "    \"Average Payload Length 1\",\n",
    "    \"Sum of Delta Time 1\",\n",
    "    \"Sum Forward Delta Time 1\",\n",
    "    \"LE Bluetooth Device Address\",\n",
    "    \"Standard Deviation RSSI 1\",\n",
    "    \"Flags\",\n",
    "    \"16-bit Service Class UUIDs (incomplete)\",\n",
    "    \"Tx Address_Random\", \n",
    "    \"Manufacturer Specific_Length\",\n",
    "    \"Power Level (dBm)\", \n",
    "    \"Standard Deviation Payload Length 1\", \n",
    "    \"Standard Deviation Packet Length 1\",\n",
    "    \"Average Nr Forward Packet 1\",\n",
    "    \"Average Nr Backward Packet 1\"\n",
    "]\n",
    "\n",
    "y = data['label'].values\n",
    "label_encoder = LabelEncoder()\n",
    "y_encoded = label_encoder.fit_transform(y)\n",
    "num_classes = len(label_encoder.classes_)\n",
    "y_categorical = to_categorical(y_encoded, num_classes=num_classes)\n",
    "\n",
    "train_accuracies = []\n",
    "test_accuracies = []\n",
    "\n",
    "# Train the MLP model with the first feature and adding in each loop one feature untill all features are included\n",
    "for i in range(1, len(top_features) + 1):\n",
    "    selected_features = top_features[:i]\n",
    "    X = data[selected_features].values\n",
    "    \n",
    "    # proprocess accroding to paper\n",
    "    scaler = StandardScaler()\n",
    "    X_normalized = scaler.fit_transform(X)\n",
    "    X_normalized = X_normalized.astype(np.float32)\n",
    "    \n",
    "    # Split the data into training and test datasets\n",
    "    X_train, X_test, y_train, y_test = train_test_split(X_normalized, y_categorical, test_size=0.2, random_state=42)\n",
    "    \n",
    "    # same model structure as from paper\n",
    "    model = Sequential([\n",
    "        Dense(128, activation='relu', input_shape=(X_normalized.shape[1],)),\n",
    "        Dropout(0.3),\n",
    "        Dense(128, activation='relu'),\n",
    "        Dropout(0.3),\n",
    "        Dense(num_classes, activation='softmax')\n",
    "    ])\n",
    "    \n",
    "    model.compile(optimizer='adam', loss='categorical_crossentropy', metrics=['accuracy'])\n",
    "    \n",
    "    model.fit(X_train, y_train, epochs=50, batch_size=32, validation_split=0.2, verbose=0)\n",
    "    \n",
    "    y_pred_train = np.argmax(model.predict(X_train), axis=1)\n",
    "    y_pred_test = np.argmax(model.predict(X_test), axis=1)\n",
    "    y_train_labels = np.argmax(y_train, axis=1)\n",
    "    y_test_labels = np.argmax(y_test, axis=1)\n",
    "    \n",
    "    accuracy_train = accuracy_score(y_train_labels, y_pred_train)\n",
    "    accuracy_test = accuracy_score(y_test_labels, y_pred_test)\n",
    "    \n",
    "    train_accuracies.append(accuracy_train)\n",
    "    test_accuracies.append(accuracy_test)\n",
    "    \n",
    "    print(f'Number of features: {i}, Train accuracy: {accuracy_train}, Test accuracy: {accuracy_test}')\n",
    "\n",
    "# The best number of features with the highest accuracy\n",
    "best_num_features = np.argmax(test_accuracies) + 1\n",
    "print(f'Best number of features: {best_num_features}, Highest Test accuracy: {test_accuracies[best_num_features-1]}')"
   ]
  },
  {
   "cell_type": "code",
   "execution_count": 51,
   "id": "a4980461",
   "metadata": {},
   "outputs": [
    {
     "name": "stdout",
     "output_type": "stream",
     "text": [
      "\u001b[1m22541/22541\u001b[0m \u001b[32m━━━━━━━━━━━━━━━━━━━━\u001b[0m\u001b[37m\u001b[0m \u001b[1m19s\u001b[0m 839us/step\n",
      "Training accuracy with 27 features: 0.9978608009449631\n"
     ]
    }
   ],
   "source": [
    "# Get the training accuracy of the MLP model trained on 27 features\n",
    "selected_features = top_features[:27]\n",
    "y = data['label'].values\n",
    "label_encoder = LabelEncoder()\n",
    "y_encoded = label_encoder.fit_transform(y)\n",
    "num_classes = len(label_encoder.classes_)\n",
    "y_categorical = to_categorical(y_encoded, num_classes=num_classes)\n",
    "\n",
    "X = data[selected_features].values\n",
    "\n",
    "# proprocess accroding to paper\n",
    "scaler = StandardScaler()\n",
    "X_normalized = scaler.fit_transform(X)\n",
    "X_normalized = X_normalized.astype(np.float32)\n",
    "\n",
    "# Split the data into training and test datasets\n",
    "X_train, X_test, y_train, y_test = train_test_split(X_normalized, y_categorical, test_size=0.2, random_state=42)\n",
    "\n",
    "# Train the MLP model\n",
    "model = Sequential([\n",
    "    Dense(128, activation='relu', input_shape=(X_normalized.shape[1],)),\n",
    "    Dropout(0.3),\n",
    "    Dense(128, activation='relu'),\n",
    "    Dropout(0.3),\n",
    "    Dense(num_classes, activation='softmax')\n",
    "])\n",
    "\n",
    "model.compile(optimizer='adam', loss='categorical_crossentropy', metrics=['accuracy'])\n",
    "\n",
    "model.fit(X_train, y_train, epochs=50, batch_size=32, validation_split=0.2, verbose=0)\n",
    "\n",
    "y_pred_train = np.argmax(model.predict(X_train), axis=1)\n",
    "y_train_labels = np.argmax(y_train, axis=1)\n",
    "accuracy_train = accuracy_score(y_train_labels, y_pred_train)\n",
    "print(f'Training accuracy with 27 features: {accuracy_train}')"
   ]
  },
  {
   "cell_type": "code",
   "execution_count": null,
   "id": "45376416",
   "metadata": {},
   "outputs": [],
   "source": []
  },
  {
   "cell_type": "code",
   "execution_count": null,
   "id": "13399c7c",
   "metadata": {},
   "outputs": [],
   "source": []
  }
 ],
 "metadata": {
  "kernelspec": {
   "display_name": "Python 3 (ipykernel)",
   "language": "python",
   "name": "python3"
  },
  "language_info": {
   "codemirror_mode": {
    "name": "ipython",
    "version": 3
   },
   "file_extension": ".py",
   "mimetype": "text/x-python",
   "name": "python",
   "nbconvert_exporter": "python",
   "pygments_lexer": "ipython3",
   "version": "3.9.12"
  }
 },
 "nbformat": 4,
 "nbformat_minor": 5
}
