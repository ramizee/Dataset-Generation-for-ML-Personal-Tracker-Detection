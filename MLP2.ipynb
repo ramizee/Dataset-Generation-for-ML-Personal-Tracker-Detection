{
 "cells": [
  {
   "cell_type": "markdown",
   "id": "a81de943",
   "metadata": {},
   "source": [
    "# MLP on Alternative Data Splitting Method"
   ]
  },
  {
   "cell_type": "code",
   "execution_count": 1,
   "id": "b1b92033",
   "metadata": {},
   "outputs": [],
   "source": [
    "import warnings\n",
    "warnings.filterwarnings('ignore')"
   ]
  },
  {
   "cell_type": "code",
   "execution_count": 2,
   "id": "68373c88",
   "metadata": {},
   "outputs": [],
   "source": [
    "import pandas as pd\n",
    "import numpy as np\n",
    "import tensorflow as tf\n",
    "import matplotlib.pyplot as plt\n",
    "import seaborn as sns\n",
    "from sklearn.model_selection import train_test_split\n",
    "from sklearn.preprocessing import StandardScaler, LabelEncoder\n",
    "from sklearn.metrics import confusion_matrix, classification_report, accuracy_score, precision_score, recall_score, f1_score"
   ]
  },
  {
   "cell_type": "code",
   "execution_count": 3,
   "id": "7c266262",
   "metadata": {},
   "outputs": [],
   "source": [
    "from tensorflow.keras.models import Sequential\n",
    "from tensorflow.keras.layers import Dense, Dropout\n",
    "from tensorflow.keras.utils import to_categorical\n",
    "from keras.models import load_model"
   ]
  },
  {
   "cell_type": "code",
   "execution_count": 4,
   "id": "a5a80a9f",
   "metadata": {},
   "outputs": [],
   "source": [
    "import joblib"
   ]
  },
  {
   "cell_type": "markdown",
   "id": "431b2ec9",
   "metadata": {},
   "source": [
    "Need to preprocess the data again cause not able to open the file 'all_data_final' because of its size"
   ]
  },
  {
   "cell_type": "code",
   "execution_count": 4,
   "id": "b2ea7dc8",
   "metadata": {},
   "outputs": [
    {
     "name": "stdout",
     "output_type": "stream",
     "text": [
      "['PDU Type', 'Info', 'Channel Selection Algorithm', 'Tx Address', 'Rx Address', 'Simultaneous LE and BR/EDR to Same Device Capable (Host)', 'Simultaneous LE and BR/EDR to Same Device Capable (Controller)', 'BR/EDR Not Supported', 'LE General Discoverable Mode', 'LE Limited Discoverable Mode', 'label', 'subcategory', 'Packet Direction']\n",
      "Total number of rows: 901623\n",
      "Rows with NaN values:\n"
     ]
    }
   ],
   "source": [
    "def get_feature_types(df):\n",
    "    numerical_features = []\n",
    "    categorical_features = []\n",
    "    boolean_features = []\n",
    "    for column_name, column_type in df.dtypes.items():\n",
    "        if column_type in ['int64', 'float64']:\n",
    "            numerical_features.append(column_name)\n",
    "        elif column_type == 'object':\n",
    "            categorical_features.append(column_name)\n",
    "        elif column_type == 'bool':\n",
    "            boolean_features.append(column_name)\n",
    "    return numerical_features, categorical_features, boolean_features\n",
    "\n",
    "numerical_features, categorical_features, boolean_features = get_feature_types(data)\n",
    "\n",
    "def one_hot_encode_features(data, categorical_features):\n",
    "    if 'label' in categorical_features:\n",
    "        categorical_features.remove('label')\n",
    "    if 'subcategory' in categorical_features:\n",
    "        categorical_features.remove('subcategory')\n",
    "    data = pd.get_dummies(data, columns=categorical_features, drop_first=True)\n",
    "    return data\n",
    "\n",
    "data = one_hot_encode_features(data, categorical_features)\n",
    "data.fillna(0, inplace=True)"
   ]
  },
  {
   "cell_type": "markdown",
   "id": "d905ec37",
   "metadata": {},
   "source": [
    "Split into X=features and y=labels"
   ]
  },
  {
   "cell_type": "code",
   "execution_count": null,
   "id": "39f61f30",
   "metadata": {},
   "outputs": [],
   "source": [
    "X = data.drop(columns=['label', 'subcategory']).values\n",
    "y = data['label'].values"
   ]
  },
  {
   "cell_type": "markdown",
   "id": "23f1bc15",
   "metadata": {},
   "source": [
    "Save X and y"
   ]
  },
  {
   "cell_type": "code",
   "execution_count": null,
   "id": "400f7182",
   "metadata": {},
   "outputs": [],
   "source": [
    "joblib.dump(X, 'csv 20 minutes/labeled2/features_final/together/X_MLP.pkl')\n",
    "joblib.dump(y, 'csv 20 minutes/labeled2/features_final/together/y_MLP.pkl')"
   ]
  },
  {
   "cell_type": "markdown",
   "id": "053d118b",
   "metadata": {},
   "source": [
    "Load X and y"
   ]
  },
  {
   "cell_type": "code",
   "execution_count": 5,
   "id": "26125b6c",
   "metadata": {},
   "outputs": [],
   "source": [
    "X = joblib.load('csv 20 minutes/labeled2/features_final/together/X_MLP.pkl')\n",
    "y = joblib.load('csv 20 minutes/labeled2/features_final/together/y_MLP.pkl')"
   ]
  },
  {
   "cell_type": "markdown",
   "id": "97f90ff4",
   "metadata": {},
   "source": [
    "# Split data based on the alternative data splitting method"
   ]
  },
  {
   "cell_type": "code",
   "execution_count": 39,
   "id": "9bbaf12b",
   "metadata": {},
   "outputs": [],
   "source": [
    "def split_train_test_approach2(data):\n",
    "    train_data = pd.DataFrame(columns=data.columns)\n",
    "    test_data = pd.DataFrame(columns=data.columns)\n",
    "    \n",
    "    labels = data['label'].unique()\n",
    "    \n",
    "    for label in labels:\n",
    "        label_data = data[data['label'] == label]\n",
    "        subcategories = label_data['subcategory'].value_counts()\n",
    "        \n",
    "        if len(subcategories) == 1:\n",
    "            train, test = train_test_split(label_data, test_size=0.2, random_state=42)\n",
    "        else:\n",
    "            subcategory_to_exclude = subcategories.idxmin()\n",
    "            remaining_data = label_data[label_data['subcategory'] != subcategory_to_exclude]\n",
    "            train, test_remain = train_test_split(remaining_data, test_size=0.2, random_state=42)\n",
    "            test_exclude = label_data[label_data['subcategory'] == subcategory_to_exclude]\n",
    "            test = pd.concat([test_remain, test_exclude])\n",
    "        \n",
    "        train_data = pd.concat([train_data, train])\n",
    "        test_data = pd.concat([test_data, test])\n",
    "    \n",
    "    total_count = len(data)\n",
    "    train_count = len(train_data)\n",
    "    test_count = len(test_data)\n",
    "    print(f\"Total data count: {total_count}\")\n",
    "    print(f\"Training data count: {train_count} ({(train_count / total_count) * 100:.2f}%)\")\n",
    "    print(f\"Testing data count: {test_count} ({(test_count / total_count) * 100:.2f}%)\")\n",
    "    \n",
    "    for label in labels:\n",
    "        train_subcategories = train_data[train_data['label'] == label]['subcategory'].unique()\n",
    "        test_subcategories = test_data[test_data['label'] == label]['subcategory'].unique()\n",
    "        print(f\"Label: {label}\")\n",
    "        print(f\"  Training subcategories: {', '.join(train_subcategories)}\")\n",
    "        print(f\"  Testing subcategories: {', '.join(test_subcategories)}\")\n",
    "        print()\n",
    "        \n",
    "    return train_data, test_data"
   ]
  },
  {
   "cell_type": "code",
   "execution_count": 6,
   "id": "f8025d3e",
   "metadata": {},
   "outputs": [
    {
     "name": "stdout",
     "output_type": "stream",
     "text": [
      "Total data count: 901623\n",
      "Training data count: 687463 (76.25%)\n",
      "Testing data count: 214160 (23.75%)\n",
      "Label: Laptop\n",
      "  Training subcategories: Dell Laptop, Hp Laptop\n",
      "  Testing subcategories: Dell Laptop, Hp Laptop, Apple Laptop\n",
      "\n",
      "Label: Headphone\n",
      "  Training subcategories: Apple Headphone, Sony Linkbuds Headphone, Bose-1 Headphone, Sony XM4 Headphone, Sony XM3 Headphone, Samsung Headphone, Bose-2 Headphone\n",
      "  Testing subcategories: Apple Headphone, Sony XM3 Headphone, Sony XM4 Headphone, Bose-2 Headphone, Sony Linkbuds Headphone, Bose-1 Headphone, Samsung Headphone, Beats Headphone\n",
      "\n",
      "Label: iPad\n",
      "  Training subcategories: Apple iPad\n",
      "  Testing subcategories: Apple iPad\n",
      "\n",
      "Label: Airtag\n",
      "  Training subcategories: Apple Airtag\n",
      "  Testing subcategories: Apple Airtag\n",
      "\n",
      "Label: TV\n",
      "  Training subcategories: LG TV\n",
      "  Testing subcategories: LG TV, Samsung TV\n",
      "\n",
      "Label: Kitchen\n",
      "  Training subcategories: Kettle, Airfryer\n",
      "  Testing subcategories: Kettle, Airfryer, Mixer\n",
      "\n",
      "Label: Smartwatch\n",
      "  Training subcategories: Apple Smartwatch, Ericsson Smartwatch, Fitbit Smartwatch, Huawei Smartwatch\n",
      "  Testing subcategories: Apple Smartwatch, Ericsson Smartwatch, Fitbit Smartwatch, Huawei Smartwatch, Galaxy Smartwatch\n",
      "\n",
      "Label: Camera\n",
      "  Training subcategories: GoPro5, GoPro9, Rollei Camera, Canon, GoPro10\n",
      "  Testing subcategories: Rollei Camera, Canon, GoPro10, GoPro9, GoPro5, GoPro4\n",
      "\n",
      "Label: Smartphone\n",
      "  Training subcategories: Nokia Smartphone, Samsung Smartphone, Huawei Smartphone, Google Smartphone\n",
      "  Testing subcategories: Google Smartphone, Huawei Smartphone, Nokia Smartphone, Samsung Smartphone, Apple Smartphone\n",
      "\n",
      "Label: Bathroom\n",
      "  Training subcategories: Toothbrush\n",
      "  Testing subcategories: Toothbrush, AquaClean Shower Toilet\n",
      "\n"
     ]
    }
   ],
   "source": [
    "train_data_approach2, test_data_approach2 = split_train_test_approach2(data)"
   ]
  },
  {
   "cell_type": "markdown",
   "id": "e19857a4",
   "metadata": {},
   "source": [
    "SAVE"
   ]
  },
  {
   "cell_type": "code",
   "execution_count": 7,
   "id": "5c7ea59f",
   "metadata": {},
   "outputs": [],
   "source": [
    "train_data_approach2.to_csv('csv 20 minutes/labeled2/features_final/together/train_MLP_data_approach2.csv', index=False)\n",
    "test_data_approach2.to_csv('csv 20 minutes/labeled2/features_final/together/test_MLP_data_approach2.csv', index=False)"
   ]
  },
  {
   "cell_type": "markdown",
   "id": "6b833f09",
   "metadata": {},
   "source": [
    "LOAD"
   ]
  },
  {
   "cell_type": "code",
   "execution_count": 6,
   "id": "740982f1",
   "metadata": {},
   "outputs": [],
   "source": [
    "train_data_approach2 = pd.read_csv('csv 20 minutes/labeled2/features_final/together/train_MLP_data_approach2.csv', delimiter=';', encoding='ISO-8859-1')\n",
    "test_data_approach2 = pd.read_csv('csv 20 minutes/labeled2/features_final/together/test_MLP_data_approach2.csv', delimiter=';', encoding='ISO-8859-1')"
   ]
  },
  {
   "cell_type": "code",
   "execution_count": 7,
   "id": "5ce0c703",
   "metadata": {},
   "outputs": [],
   "source": [
    "X_train_dataset = train_data_approach2.drop(columns=['label', 'subcategory']).values\n",
    "y_train_dataset = train_data_approach2['label'].values"
   ]
  },
  {
   "cell_type": "code",
   "execution_count": 8,
   "id": "4b3b25c4",
   "metadata": {},
   "outputs": [],
   "source": [
    "X_test_dataset = test_data_approach2.drop(columns=['label', 'subcategory']).values\n",
    "y_test_dataset = test_data_approach2['label'].values"
   ]
  },
  {
   "cell_type": "markdown",
   "id": "b79c2f89",
   "metadata": {},
   "source": [
    "preprocessiing according to paper"
   ]
  },
  {
   "cell_type": "code",
   "execution_count": 11,
   "id": "e338f1d7",
   "metadata": {},
   "outputs": [],
   "source": [
    "scaler = StandardScaler()\n",
    "X_train_dataset_normalized = scaler.fit_transform(X_train_dataset)\n",
    "X_test_dataset_normalized = scaler.fit_transform(X_test_dataset)\n",
    "X_train_dataset_normalized = X_train_dataset_normalized.astype(np.float32)\n",
    "X_test_dataset_normalized = X_test_dataset_normalized.astype(np.float32)\n",
    "label_encoder = LabelEncoder()\n",
    "y_train_dataset_encoded = label_encoder.fit_transform(y_train_dataset)\n",
    "y_test_dataset_encoded = label_encoder.fit_transform(y_test_dataset)\n",
    "num_classes = len(label_encoder.classes_)\n",
    "y_train_dataset_categorical = to_categorical(y_train_dataset_encoded, num_classes=num_classes)\n",
    "y_test_dataset_categorical = to_categorical(y_test_dataset_encoded, num_classes=num_classes)"
   ]
  },
  {
   "cell_type": "code",
   "execution_count": 11,
   "id": "cb35e482",
   "metadata": {},
   "outputs": [],
   "source": [
    "X_train2 = X_train_dataset_normalized\n",
    "y_train2 = y_train_dataset_categorical\n",
    "X_test2 = X_test_dataset_normalized\n",
    "y_test2 = y_test_dataset_categorical"
   ]
  },
  {
   "cell_type": "markdown",
   "id": "bf15fe7b",
   "metadata": {},
   "source": [
    "SAVE"
   ]
  },
  {
   "cell_type": "code",
   "execution_count": 14,
   "id": "989aa4d3",
   "metadata": {},
   "outputs": [
    {
     "data": {
      "text/plain": [
       "['csv 20 minutes/labeled2/features_final/together/y_MLP_test2.pkl']"
      ]
     },
     "execution_count": 14,
     "metadata": {},
     "output_type": "execute_result"
    }
   ],
   "source": [
    "joblib.dump(X_train2, 'csv 20 minutes/labeled2/features_final/together/X_MLP_train2.pkl')\n",
    "joblib.dump(y_train2, 'csv 20 minutes/labeled2/features_final/together/y_MLP_train2.pkl')\n",
    "joblib.dump(X_test2, 'csv 20 minutes/labeled2/features_final/together/X_MLP_test2.pkl')\n",
    "joblib.dump(y_test2, 'csv 20 minutes/labeled2/features_final/together/y_MLP_test2.pkl')"
   ]
  },
  {
   "cell_type": "markdown",
   "id": "1f072974",
   "metadata": {},
   "source": [
    "LOAD"
   ]
  },
  {
   "cell_type": "code",
   "execution_count": 12,
   "id": "39ef9b95",
   "metadata": {},
   "outputs": [],
   "source": [
    "X_train2 = joblib.load('csv 20 minutes/labeled2/features_final/together/X_MLP_train2.pkl')\n",
    "X_test2 = joblib.load('csv 20 minutes/labeled2/features_final/together/X_MLP_test2.pkl')\n",
    "y_train2 = joblib.load('csv 20 minutes/labeled2/features_final/together/y_MLP_train2.pkl')\n",
    "y_test2 = joblib.load('csv 20 minutes/labeled2/features_final/together/y_MLP_test2.pkl')"
   ]
  },
  {
   "cell_type": "markdown",
   "id": "c70b06d7",
   "metadata": {},
   "source": [
    "# TRAIN MLP"
   ]
  },
  {
   "cell_type": "code",
   "execution_count": 15,
   "id": "2424f53c",
   "metadata": {},
   "outputs": [],
   "source": [
    "model = Sequential([\n",
    "    Dense(128, activation='relu', input_shape=(X_train_dataset_normalized.shape[1],)),\n",
    "    Dropout(0.3),\n",
    "    Dense(128, activation='relu'),\n",
    "    Dropout(0.3),\n",
    "    Dense(num_classes, activation='softmax')\n",
    "])"
   ]
  },
  {
   "cell_type": "code",
   "execution_count": 16,
   "id": "abfc7c23",
   "metadata": {},
   "outputs": [],
   "source": [
    "model.compile(optimizer='adam', loss='categorical_crossentropy', metrics=['accuracy'])"
   ]
  },
  {
   "cell_type": "code",
   "execution_count": 17,
   "id": "1d9d1335",
   "metadata": {},
   "outputs": [
    {
     "name": "stdout",
     "output_type": "stream",
     "text": [
      "Epoch 1/50\n",
      "\u001b[1m17187/17187\u001b[0m \u001b[32m━━━━━━━━━━━━━━━━━━━━\u001b[0m\u001b[37m\u001b[0m \u001b[1m17s\u001b[0m 954us/step - accuracy: 0.9789 - loss: 0.1076 - val_accuracy: 0.2445 - val_loss: 60.3486\n",
      "Epoch 2/50\n",
      "\u001b[1m17187/17187\u001b[0m \u001b[32m━━━━━━━━━━━━━━━━━━━━\u001b[0m\u001b[37m\u001b[0m \u001b[1m17s\u001b[0m 964us/step - accuracy: 0.9967 - loss: 0.0165 - val_accuracy: 0.2445 - val_loss: 90.1370\n",
      "Epoch 3/50\n",
      "\u001b[1m17187/17187\u001b[0m \u001b[32m━━━━━━━━━━━━━━━━━━━━\u001b[0m\u001b[37m\u001b[0m \u001b[1m16s\u001b[0m 946us/step - accuracy: 0.9972 - loss: 0.0140 - val_accuracy: 0.2446 - val_loss: 114.0431\n",
      "Epoch 4/50\n",
      "\u001b[1m17187/17187\u001b[0m \u001b[32m━━━━━━━━━━━━━━━━━━━━\u001b[0m\u001b[37m\u001b[0m \u001b[1m17s\u001b[0m 999us/step - accuracy: 0.9975 - loss: 0.0136 - val_accuracy: 0.2445 - val_loss: 175.5731\n",
      "Epoch 5/50\n",
      "\u001b[1m17187/17187\u001b[0m \u001b[32m━━━━━━━━━━━━━━━━━━━━\u001b[0m\u001b[37m\u001b[0m \u001b[1m17s\u001b[0m 1ms/step - accuracy: 0.9975 - loss: 0.0136 - val_accuracy: 0.2445 - val_loss: 198.3803\n",
      "Epoch 6/50\n",
      "\u001b[1m17187/17187\u001b[0m \u001b[32m━━━━━━━━━━━━━━━━━━━━\u001b[0m\u001b[37m\u001b[0m \u001b[1m18s\u001b[0m 1ms/step - accuracy: 0.9976 - loss: 0.0144 - val_accuracy: 0.2445 - val_loss: 241.8929\n",
      "Epoch 7/50\n",
      "\u001b[1m17187/17187\u001b[0m \u001b[32m━━━━━━━━━━━━━━━━━━━━\u001b[0m\u001b[37m\u001b[0m \u001b[1m18s\u001b[0m 1ms/step - accuracy: 0.9975 - loss: 0.0192 - val_accuracy: 0.2445 - val_loss: 250.8859\n",
      "Epoch 8/50\n",
      "\u001b[1m17187/17187\u001b[0m \u001b[32m━━━━━━━━━━━━━━━━━━━━\u001b[0m\u001b[37m\u001b[0m \u001b[1m17s\u001b[0m 1ms/step - accuracy: 0.9976 - loss: 0.0149 - val_accuracy: 0.2446 - val_loss: 219.1456\n",
      "Epoch 9/50\n",
      "\u001b[1m17187/17187\u001b[0m \u001b[32m━━━━━━━━━━━━━━━━━━━━\u001b[0m\u001b[37m\u001b[0m \u001b[1m18s\u001b[0m 1ms/step - accuracy: 0.9978 - loss: 0.0143 - val_accuracy: 0.2445 - val_loss: 234.8184\n",
      "Epoch 10/50\n",
      "\u001b[1m17187/17187\u001b[0m \u001b[32m━━━━━━━━━━━━━━━━━━━━\u001b[0m\u001b[37m\u001b[0m \u001b[1m19s\u001b[0m 1ms/step - accuracy: 0.9976 - loss: 0.0230 - val_accuracy: 0.2445 - val_loss: 248.7953\n",
      "Epoch 11/50\n",
      "\u001b[1m17187/17187\u001b[0m \u001b[32m━━━━━━━━━━━━━━━━━━━━\u001b[0m\u001b[37m\u001b[0m \u001b[1m18s\u001b[0m 1ms/step - accuracy: 0.9975 - loss: 0.0230 - val_accuracy: 0.2445 - val_loss: 293.8015\n",
      "Epoch 12/50\n",
      "\u001b[1m17187/17187\u001b[0m \u001b[32m━━━━━━━━━━━━━━━━━━━━\u001b[0m\u001b[37m\u001b[0m \u001b[1m18s\u001b[0m 1ms/step - accuracy: 0.9975 - loss: 0.0288 - val_accuracy: 0.2445 - val_loss: 281.4507\n",
      "Epoch 13/50\n",
      "\u001b[1m17187/17187\u001b[0m \u001b[32m━━━━━━━━━━━━━━━━━━━━\u001b[0m\u001b[37m\u001b[0m \u001b[1m19s\u001b[0m 1ms/step - accuracy: 0.9974 - loss: 0.0243 - val_accuracy: 0.2445 - val_loss: 304.3766\n",
      "Epoch 14/50\n",
      "\u001b[1m17187/17187\u001b[0m \u001b[32m━━━━━━━━━━━━━━━━━━━━\u001b[0m\u001b[37m\u001b[0m \u001b[1m19s\u001b[0m 1ms/step - accuracy: 0.9976 - loss: 0.0340 - val_accuracy: 0.2445 - val_loss: 346.8875\n",
      "Epoch 15/50\n",
      "\u001b[1m17187/17187\u001b[0m \u001b[32m━━━━━━━━━━━━━━━━━━━━\u001b[0m\u001b[37m\u001b[0m \u001b[1m19s\u001b[0m 1ms/step - accuracy: 0.9977 - loss: 0.0222 - val_accuracy: 0.2445 - val_loss: 316.1397\n",
      "Epoch 16/50\n",
      "\u001b[1m17187/17187\u001b[0m \u001b[32m━━━━━━━━━━━━━━━━━━━━\u001b[0m\u001b[37m\u001b[0m \u001b[1m20s\u001b[0m 1ms/step - accuracy: 0.9975 - loss: 0.0267 - val_accuracy: 0.2445 - val_loss: 317.8956\n",
      "Epoch 17/50\n",
      "\u001b[1m17187/17187\u001b[0m \u001b[32m━━━━━━━━━━━━━━━━━━━━\u001b[0m\u001b[37m\u001b[0m \u001b[1m20s\u001b[0m 1ms/step - accuracy: 0.9975 - loss: 0.0275 - val_accuracy: 0.2445 - val_loss: 432.9231\n",
      "Epoch 18/50\n",
      "\u001b[1m17187/17187\u001b[0m \u001b[32m━━━━━━━━━━━━━━━━━━━━\u001b[0m\u001b[37m\u001b[0m \u001b[1m21s\u001b[0m 1ms/step - accuracy: 0.9976 - loss: 0.0376 - val_accuracy: 0.2445 - val_loss: 386.5101\n",
      "Epoch 19/50\n",
      "\u001b[1m17187/17187\u001b[0m \u001b[32m━━━━━━━━━━━━━━━━━━━━\u001b[0m\u001b[37m\u001b[0m \u001b[1m21s\u001b[0m 1ms/step - accuracy: 0.9974 - loss: 0.0298 - val_accuracy: 0.2446 - val_loss: 476.7030\n",
      "Epoch 20/50\n",
      "\u001b[1m17187/17187\u001b[0m \u001b[32m━━━━━━━━━━━━━━━━━━━━\u001b[0m\u001b[37m\u001b[0m \u001b[1m20s\u001b[0m 1ms/step - accuracy: 0.9975 - loss: 0.0242 - val_accuracy: 0.2446 - val_loss: 537.5908\n",
      "Epoch 21/50\n",
      "\u001b[1m17187/17187\u001b[0m \u001b[32m━━━━━━━━━━━━━━━━━━━━\u001b[0m\u001b[37m\u001b[0m \u001b[1m21s\u001b[0m 1ms/step - accuracy: 0.9977 - loss: 0.0229 - val_accuracy: 0.2446 - val_loss: 471.4439\n",
      "Epoch 22/50\n",
      "\u001b[1m17187/17187\u001b[0m \u001b[32m━━━━━━━━━━━━━━━━━━━━\u001b[0m\u001b[37m\u001b[0m \u001b[1m20s\u001b[0m 1ms/step - accuracy: 0.9977 - loss: 0.0303 - val_accuracy: 0.2445 - val_loss: 485.0363\n",
      "Epoch 23/50\n",
      "\u001b[1m17187/17187\u001b[0m \u001b[32m━━━━━━━━━━━━━━━━━━━━\u001b[0m\u001b[37m\u001b[0m \u001b[1m21s\u001b[0m 1ms/step - accuracy: 0.9975 - loss: 0.0294 - val_accuracy: 0.2446 - val_loss: 507.2649\n",
      "Epoch 24/50\n",
      "\u001b[1m17187/17187\u001b[0m \u001b[32m━━━━━━━━━━━━━━━━━━━━\u001b[0m\u001b[37m\u001b[0m \u001b[1m21s\u001b[0m 1ms/step - accuracy: 0.9975 - loss: 0.0246 - val_accuracy: 0.2446 - val_loss: 504.3206\n",
      "Epoch 25/50\n",
      "\u001b[1m17187/17187\u001b[0m \u001b[32m━━━━━━━━━━━━━━━━━━━━\u001b[0m\u001b[37m\u001b[0m \u001b[1m21s\u001b[0m 1ms/step - accuracy: 0.9975 - loss: 0.0225 - val_accuracy: 0.2446 - val_loss: 441.7546\n",
      "Epoch 26/50\n",
      "\u001b[1m17187/17187\u001b[0m \u001b[32m━━━━━━━━━━━━━━━━━━━━\u001b[0m\u001b[37m\u001b[0m \u001b[1m21s\u001b[0m 1ms/step - accuracy: 0.9977 - loss: 0.0295 - val_accuracy: 0.2446 - val_loss: 544.2641\n",
      "Epoch 27/50\n",
      "\u001b[1m17187/17187\u001b[0m \u001b[32m━━━━━━━━━━━━━━━━━━━━\u001b[0m\u001b[37m\u001b[0m \u001b[1m21s\u001b[0m 1ms/step - accuracy: 0.9976 - loss: 0.0332 - val_accuracy: 0.2446 - val_loss: 527.2892\n",
      "Epoch 28/50\n",
      "\u001b[1m17187/17187\u001b[0m \u001b[32m━━━━━━━━━━━━━━━━━━━━\u001b[0m\u001b[37m\u001b[0m \u001b[1m20s\u001b[0m 1ms/step - accuracy: 0.9976 - loss: 0.0266 - val_accuracy: 0.2445 - val_loss: 593.0092\n",
      "Epoch 29/50\n",
      "\u001b[1m17187/17187\u001b[0m \u001b[32m━━━━━━━━━━━━━━━━━━━━\u001b[0m\u001b[37m\u001b[0m \u001b[1m20s\u001b[0m 1ms/step - accuracy: 0.9975 - loss: 0.0431 - val_accuracy: 0.2446 - val_loss: 593.2662\n",
      "Epoch 30/50\n",
      "\u001b[1m17187/17187\u001b[0m \u001b[32m━━━━━━━━━━━━━━━━━━━━\u001b[0m\u001b[37m\u001b[0m \u001b[1m21s\u001b[0m 1ms/step - accuracy: 0.9975 - loss: 0.0334 - val_accuracy: 0.2446 - val_loss: 640.1320\n",
      "Epoch 31/50\n",
      "\u001b[1m17187/17187\u001b[0m \u001b[32m━━━━━━━━━━━━━━━━━━━━\u001b[0m\u001b[37m\u001b[0m \u001b[1m21s\u001b[0m 1ms/step - accuracy: 0.9975 - loss: 0.0347 - val_accuracy: 0.2446 - val_loss: 602.5975\n",
      "Epoch 32/50\n",
      "\u001b[1m17187/17187\u001b[0m \u001b[32m━━━━━━━━━━━━━━━━━━━━\u001b[0m\u001b[37m\u001b[0m \u001b[1m21s\u001b[0m 1ms/step - accuracy: 0.9975 - loss: 0.0669 - val_accuracy: 0.2445 - val_loss: 657.1183\n",
      "Epoch 33/50\n",
      "\u001b[1m17187/17187\u001b[0m \u001b[32m━━━━━━━━━━━━━━━━━━━━\u001b[0m\u001b[37m\u001b[0m \u001b[1m21s\u001b[0m 1ms/step - accuracy: 0.9975 - loss: 0.0367 - val_accuracy: 0.2444 - val_loss: 614.0443\n",
      "Epoch 34/50\n",
      "\u001b[1m17187/17187\u001b[0m \u001b[32m━━━━━━━━━━━━━━━━━━━━\u001b[0m\u001b[37m\u001b[0m \u001b[1m20s\u001b[0m 1ms/step - accuracy: 0.9975 - loss: 0.0469 - val_accuracy: 0.2445 - val_loss: 617.9923\n",
      "Epoch 35/50\n",
      "\u001b[1m17187/17187\u001b[0m \u001b[32m━━━━━━━━━━━━━━━━━━━━\u001b[0m\u001b[37m\u001b[0m \u001b[1m21s\u001b[0m 1ms/step - accuracy: 0.9974 - loss: 0.0404 - val_accuracy: 0.2445 - val_loss: 661.7474\n",
      "Epoch 36/50\n",
      "\u001b[1m17187/17187\u001b[0m \u001b[32m━━━━━━━━━━━━━━━━━━━━\u001b[0m\u001b[37m\u001b[0m \u001b[1m20s\u001b[0m 1ms/step - accuracy: 0.9975 - loss: 0.0307 - val_accuracy: 0.2445 - val_loss: 659.9743\n",
      "Epoch 37/50\n",
      "\u001b[1m17187/17187\u001b[0m \u001b[32m━━━━━━━━━━━━━━━━━━━━\u001b[0m\u001b[37m\u001b[0m \u001b[1m22s\u001b[0m 1ms/step - accuracy: 0.9975 - loss: 0.0415 - val_accuracy: 0.2445 - val_loss: 723.5980\n",
      "Epoch 38/50\n",
      "\u001b[1m17187/17187\u001b[0m \u001b[32m━━━━━━━━━━━━━━━━━━━━\u001b[0m\u001b[37m\u001b[0m \u001b[1m21s\u001b[0m 1ms/step - accuracy: 0.9975 - loss: 0.0307 - val_accuracy: 0.2445 - val_loss: 695.8325\n",
      "Epoch 39/50\n",
      "\u001b[1m17187/17187\u001b[0m \u001b[32m━━━━━━━━━━━━━━━━━━━━\u001b[0m\u001b[37m\u001b[0m \u001b[1m22s\u001b[0m 1ms/step - accuracy: 0.9975 - loss: 0.0469 - val_accuracy: 0.2445 - val_loss: 783.7053\n",
      "Epoch 40/50\n",
      "\u001b[1m17187/17187\u001b[0m \u001b[32m━━━━━━━━━━━━━━━━━━━━\u001b[0m\u001b[37m\u001b[0m \u001b[1m20s\u001b[0m 1ms/step - accuracy: 0.9974 - loss: 0.0790 - val_accuracy: 0.2445 - val_loss: 908.9257\n",
      "Epoch 41/50\n",
      "\u001b[1m17187/17187\u001b[0m \u001b[32m━━━━━━━━━━━━━━━━━━━━\u001b[0m\u001b[37m\u001b[0m \u001b[1m21s\u001b[0m 1ms/step - accuracy: 0.9973 - loss: 0.0728 - val_accuracy: 0.2445 - val_loss: 788.7809\n",
      "Epoch 42/50\n",
      "\u001b[1m17187/17187\u001b[0m \u001b[32m━━━━━━━━━━━━━━━━━━━━\u001b[0m\u001b[37m\u001b[0m \u001b[1m21s\u001b[0m 1ms/step - accuracy: 0.9976 - loss: 0.0250 - val_accuracy: 0.2445 - val_loss: 838.9233\n",
      "Epoch 43/50\n",
      "\u001b[1m17187/17187\u001b[0m \u001b[32m━━━━━━━━━━━━━━━━━━━━\u001b[0m\u001b[37m\u001b[0m \u001b[1m21s\u001b[0m 1ms/step - accuracy: 0.9976 - loss: 0.0874 - val_accuracy: 0.2446 - val_loss: 816.8931\n",
      "Epoch 44/50\n",
      "\u001b[1m17187/17187\u001b[0m \u001b[32m━━━━━━━━━━━━━━━━━━━━\u001b[0m\u001b[37m\u001b[0m \u001b[1m21s\u001b[0m 1ms/step - accuracy: 0.9974 - loss: 0.0950 - val_accuracy: 0.2445 - val_loss: 765.2171\n",
      "Epoch 45/50\n",
      "\u001b[1m17187/17187\u001b[0m \u001b[32m━━━━━━━━━━━━━━━━━━━━\u001b[0m\u001b[37m\u001b[0m \u001b[1m21s\u001b[0m 1ms/step - accuracy: 0.9975 - loss: 0.0496 - val_accuracy: 0.2445 - val_loss: 827.9166\n",
      "Epoch 46/50\n",
      "\u001b[1m17187/17187\u001b[0m \u001b[32m━━━━━━━━━━━━━━━━━━━━\u001b[0m\u001b[37m\u001b[0m \u001b[1m21s\u001b[0m 1ms/step - accuracy: 0.9975 - loss: 0.0640 - val_accuracy: 0.2445 - val_loss: 955.0280\n",
      "Epoch 47/50\n",
      "\u001b[1m17187/17187\u001b[0m \u001b[32m━━━━━━━━━━━━━━━━━━━━\u001b[0m\u001b[37m\u001b[0m \u001b[1m20s\u001b[0m 1ms/step - accuracy: 0.9973 - loss: 0.0765 - val_accuracy: 0.2445 - val_loss: 981.8613\n",
      "Epoch 48/50\n",
      "\u001b[1m17187/17187\u001b[0m \u001b[32m━━━━━━━━━━━━━━━━━━━━\u001b[0m\u001b[37m\u001b[0m \u001b[1m21s\u001b[0m 1ms/step - accuracy: 0.9972 - loss: 0.1566 - val_accuracy: 0.2445 - val_loss: 1037.6315\n",
      "Epoch 49/50\n",
      "\u001b[1m17187/17187\u001b[0m \u001b[32m━━━━━━━━━━━━━━━━━━━━\u001b[0m\u001b[37m\u001b[0m \u001b[1m20s\u001b[0m 1ms/step - accuracy: 0.9975 - loss: 0.0458 - val_accuracy: 0.2446 - val_loss: 1178.4363\n",
      "Epoch 50/50\n",
      "\u001b[1m17187/17187\u001b[0m \u001b[32m━━━━━━━━━━━━━━━━━━━━\u001b[0m\u001b[37m\u001b[0m \u001b[1m21s\u001b[0m 1ms/step - accuracy: 0.9975 - loss: 0.0340 - val_accuracy: 0.2446 - val_loss: 1252.6884\n"
     ]
    }
   ],
   "source": [
    "history = model.fit(X_train2, y_train2, epochs=50, batch_size=32, validation_split=0.2)"
   ]
  },
  {
   "cell_type": "code",
   "execution_count": 13,
   "id": "c8b2d371",
   "metadata": {},
   "outputs": [
    {
     "name": "stdout",
     "output_type": "stream",
     "text": [
      "Label Mapping:\n",
      "Airtag: 0\n",
      "Bathroom: 1\n",
      "Camera: 2\n",
      "Headphone: 3\n",
      "Kitchen: 4\n",
      "Laptop: 5\n",
      "Smartphone: 6\n",
      "Smartwatch: 7\n",
      "TV: 8\n",
      "iPad: 9\n"
     ]
    }
   ],
   "source": [
    "label_mapping = dict(zip(label_encoder.classes_, label_encoder.transform(label_encoder.classes_)))\n",
    "print(\"Label Mapping:\")\n",
    "for label, encoded_label in label_mapping.items():\n",
    "    print(f\"{label}: {encoded_label}\")"
   ]
  },
  {
   "cell_type": "code",
   "execution_count": 20,
   "id": "badf45ef",
   "metadata": {},
   "outputs": [
    {
     "data": {
      "text/html": [
       "<pre style=\"white-space:pre;overflow-x:auto;line-height:normal;font-family:Menlo,'DejaVu Sans Mono',consolas,'Courier New',monospace\"><span style=\"font-weight: bold\">Model: \"sequential\"</span>\n",
       "</pre>\n"
      ],
      "text/plain": [
       "\u001b[1mModel: \"sequential\"\u001b[0m\n"
      ]
     },
     "metadata": {},
     "output_type": "display_data"
    },
    {
     "data": {
      "text/html": [
       "<pre style=\"white-space:pre;overflow-x:auto;line-height:normal;font-family:Menlo,'DejaVu Sans Mono',consolas,'Courier New',monospace\">┏━━━━━━━━━━━━━━━━━━━━━━━━━━━━━━━━━━━━━━┳━━━━━━━━━━━━━━━━━━━━━━━━━━━━━┳━━━━━━━━━━━━━━━━━┓\n",
       "┃<span style=\"font-weight: bold\"> Layer (type)                         </span>┃<span style=\"font-weight: bold\"> Output Shape                </span>┃<span style=\"font-weight: bold\">         Param # </span>┃\n",
       "┡━━━━━━━━━━━━━━━━━━━━━━━━━━━━━━━━━━━━━━╇━━━━━━━━━━━━━━━━━━━━━━━━━━━━━╇━━━━━━━━━━━━━━━━━┩\n",
       "│ dense (<span style=\"color: #0087ff; text-decoration-color: #0087ff\">Dense</span>)                        │ (<span style=\"color: #00d7ff; text-decoration-color: #00d7ff\">None</span>, <span style=\"color: #00af00; text-decoration-color: #00af00\">128</span>)                 │          <span style=\"color: #00af00; text-decoration-color: #00af00\">29,056</span> │\n",
       "├──────────────────────────────────────┼─────────────────────────────┼─────────────────┤\n",
       "│ dropout (<span style=\"color: #0087ff; text-decoration-color: #0087ff\">Dropout</span>)                    │ (<span style=\"color: #00d7ff; text-decoration-color: #00d7ff\">None</span>, <span style=\"color: #00af00; text-decoration-color: #00af00\">128</span>)                 │               <span style=\"color: #00af00; text-decoration-color: #00af00\">0</span> │\n",
       "├──────────────────────────────────────┼─────────────────────────────┼─────────────────┤\n",
       "│ dense_1 (<span style=\"color: #0087ff; text-decoration-color: #0087ff\">Dense</span>)                      │ (<span style=\"color: #00d7ff; text-decoration-color: #00d7ff\">None</span>, <span style=\"color: #00af00; text-decoration-color: #00af00\">128</span>)                 │          <span style=\"color: #00af00; text-decoration-color: #00af00\">16,512</span> │\n",
       "├──────────────────────────────────────┼─────────────────────────────┼─────────────────┤\n",
       "│ dropout_1 (<span style=\"color: #0087ff; text-decoration-color: #0087ff\">Dropout</span>)                  │ (<span style=\"color: #00d7ff; text-decoration-color: #00d7ff\">None</span>, <span style=\"color: #00af00; text-decoration-color: #00af00\">128</span>)                 │               <span style=\"color: #00af00; text-decoration-color: #00af00\">0</span> │\n",
       "├──────────────────────────────────────┼─────────────────────────────┼─────────────────┤\n",
       "│ dense_2 (<span style=\"color: #0087ff; text-decoration-color: #0087ff\">Dense</span>)                      │ (<span style=\"color: #00d7ff; text-decoration-color: #00d7ff\">None</span>, <span style=\"color: #00af00; text-decoration-color: #00af00\">10</span>)                  │           <span style=\"color: #00af00; text-decoration-color: #00af00\">1,290</span> │\n",
       "└──────────────────────────────────────┴─────────────────────────────┴─────────────────┘\n",
       "</pre>\n"
      ],
      "text/plain": [
       "┏━━━━━━━━━━━━━━━━━━━━━━━━━━━━━━━━━━━━━━┳━━━━━━━━━━━━━━━━━━━━━━━━━━━━━┳━━━━━━━━━━━━━━━━━┓\n",
       "┃\u001b[1m \u001b[0m\u001b[1mLayer (type)                        \u001b[0m\u001b[1m \u001b[0m┃\u001b[1m \u001b[0m\u001b[1mOutput Shape               \u001b[0m\u001b[1m \u001b[0m┃\u001b[1m \u001b[0m\u001b[1m        Param #\u001b[0m\u001b[1m \u001b[0m┃\n",
       "┡━━━━━━━━━━━━━━━━━━━━━━━━━━━━━━━━━━━━━━╇━━━━━━━━━━━━━━━━━━━━━━━━━━━━━╇━━━━━━━━━━━━━━━━━┩\n",
       "│ dense (\u001b[38;5;33mDense\u001b[0m)                        │ (\u001b[38;5;45mNone\u001b[0m, \u001b[38;5;34m128\u001b[0m)                 │          \u001b[38;5;34m29,056\u001b[0m │\n",
       "├──────────────────────────────────────┼─────────────────────────────┼─────────────────┤\n",
       "│ dropout (\u001b[38;5;33mDropout\u001b[0m)                    │ (\u001b[38;5;45mNone\u001b[0m, \u001b[38;5;34m128\u001b[0m)                 │               \u001b[38;5;34m0\u001b[0m │\n",
       "├──────────────────────────────────────┼─────────────────────────────┼─────────────────┤\n",
       "│ dense_1 (\u001b[38;5;33mDense\u001b[0m)                      │ (\u001b[38;5;45mNone\u001b[0m, \u001b[38;5;34m128\u001b[0m)                 │          \u001b[38;5;34m16,512\u001b[0m │\n",
       "├──────────────────────────────────────┼─────────────────────────────┼─────────────────┤\n",
       "│ dropout_1 (\u001b[38;5;33mDropout\u001b[0m)                  │ (\u001b[38;5;45mNone\u001b[0m, \u001b[38;5;34m128\u001b[0m)                 │               \u001b[38;5;34m0\u001b[0m │\n",
       "├──────────────────────────────────────┼─────────────────────────────┼─────────────────┤\n",
       "│ dense_2 (\u001b[38;5;33mDense\u001b[0m)                      │ (\u001b[38;5;45mNone\u001b[0m, \u001b[38;5;34m10\u001b[0m)                  │           \u001b[38;5;34m1,290\u001b[0m │\n",
       "└──────────────────────────────────────┴─────────────────────────────┴─────────────────┘\n"
      ]
     },
     "metadata": {},
     "output_type": "display_data"
    },
    {
     "data": {
      "text/html": [
       "<pre style=\"white-space:pre;overflow-x:auto;line-height:normal;font-family:Menlo,'DejaVu Sans Mono',consolas,'Courier New',monospace\"><span style=\"font-weight: bold\"> Total params: </span><span style=\"color: #00af00; text-decoration-color: #00af00\">140,576</span> (549.13 KB)\n",
       "</pre>\n"
      ],
      "text/plain": [
       "\u001b[1m Total params: \u001b[0m\u001b[38;5;34m140,576\u001b[0m (549.13 KB)\n"
      ]
     },
     "metadata": {},
     "output_type": "display_data"
    },
    {
     "data": {
      "text/html": [
       "<pre style=\"white-space:pre;overflow-x:auto;line-height:normal;font-family:Menlo,'DejaVu Sans Mono',consolas,'Courier New',monospace\"><span style=\"font-weight: bold\"> Trainable params: </span><span style=\"color: #00af00; text-decoration-color: #00af00\">46,858</span> (183.04 KB)\n",
       "</pre>\n"
      ],
      "text/plain": [
       "\u001b[1m Trainable params: \u001b[0m\u001b[38;5;34m46,858\u001b[0m (183.04 KB)\n"
      ]
     },
     "metadata": {},
     "output_type": "display_data"
    },
    {
     "data": {
      "text/html": [
       "<pre style=\"white-space:pre;overflow-x:auto;line-height:normal;font-family:Menlo,'DejaVu Sans Mono',consolas,'Courier New',monospace\"><span style=\"font-weight: bold\"> Non-trainable params: </span><span style=\"color: #00af00; text-decoration-color: #00af00\">0</span> (0.00 B)\n",
       "</pre>\n"
      ],
      "text/plain": [
       "\u001b[1m Non-trainable params: \u001b[0m\u001b[38;5;34m0\u001b[0m (0.00 B)\n"
      ]
     },
     "metadata": {},
     "output_type": "display_data"
    },
    {
     "data": {
      "text/html": [
       "<pre style=\"white-space:pre;overflow-x:auto;line-height:normal;font-family:Menlo,'DejaVu Sans Mono',consolas,'Courier New',monospace\"><span style=\"font-weight: bold\"> Optimizer params: </span><span style=\"color: #00af00; text-decoration-color: #00af00\">93,718</span> (366.09 KB)\n",
       "</pre>\n"
      ],
      "text/plain": [
       "\u001b[1m Optimizer params: \u001b[0m\u001b[38;5;34m93,718\u001b[0m (366.09 KB)\n"
      ]
     },
     "metadata": {},
     "output_type": "display_data"
    }
   ],
   "source": [
    "model.summary()"
   ]
  },
  {
   "cell_type": "markdown",
   "id": "34459201",
   "metadata": {},
   "source": [
    "ACHTUNG SAVE"
   ]
  },
  {
   "cell_type": "code",
   "execution_count": 21,
   "id": "a2c537a1",
   "metadata": {},
   "outputs": [],
   "source": [
    "np.savez('csv 20 minutes/labeled2/features_final/together/train_test_data_MLP2.npz', X_train2=X_train2, X_test2=X_test2, y_train2=y_train2, y_test2=y_test2)"
   ]
  },
  {
   "cell_type": "code",
   "execution_count": 22,
   "id": "bd960a96",
   "metadata": {},
   "outputs": [
    {
     "name": "stderr",
     "output_type": "stream",
     "text": [
      "WARNING:absl:You are saving your model as an HDF5 file via `model.save()` or `keras.saving.save_model(model)`. This file format is considered legacy. We recommend using instead the native Keras format, e.g. `model.save('my_model.keras')` or `keras.saving.save_model(model, 'my_model.keras')`. \n"
     ]
    }
   ],
   "source": [
    "model.save('csv 20 minutes/labeled2/features_final/together/MLP2.h5')"
   ]
  },
  {
   "cell_type": "code",
   "execution_count": 23,
   "id": "756f0cdb",
   "metadata": {},
   "outputs": [],
   "source": [
    "model.save('csv 20 minutes/labeled2/features_final/together/MLP2.keras')"
   ]
  },
  {
   "cell_type": "markdown",
   "id": "4ef3b254",
   "metadata": {},
   "source": [
    "ACHTUNG LOAD"
   ]
  },
  {
   "cell_type": "code",
   "execution_count": 14,
   "id": "4aa5f66b",
   "metadata": {},
   "outputs": [],
   "source": [
    "data = np.load('csv 20 minutes/labeled2/features_final/together/train_test_data_MLP2.npz')\n",
    "X_train2 = data['X_train2']\n",
    "X_test2 = data['X_test2']\n",
    "y_train2 = data['y_train2']\n",
    "y_test2 = data['y_test2']"
   ]
  },
  {
   "cell_type": "code",
   "execution_count": 15,
   "id": "984be87d",
   "metadata": {},
   "outputs": [],
   "source": [
    "model = load_model('csv 20 minutes/labeled2/features_final/together/MLP2.keras')"
   ]
  },
  {
   "cell_type": "markdown",
   "id": "7d62e815",
   "metadata": {},
   "source": [
    "## ACCURACY"
   ]
  },
  {
   "cell_type": "code",
   "execution_count": 13,
   "id": "4742f272",
   "metadata": {},
   "outputs": [
    {
     "name": "stdout",
     "output_type": "stream",
     "text": [
      "\u001b[1m6693/6693\u001b[0m \u001b[32m━━━━━━━━━━━━━━━━━━━━\u001b[0m\u001b[37m\u001b[0m \u001b[1m13s\u001b[0m 2ms/step\n",
      "\u001b[1m21484/21484\u001b[0m \u001b[32m━━━━━━━━━━━━━━━━━━━━\u001b[0m\u001b[37m\u001b[0m \u001b[1m40s\u001b[0m 2ms/step\n",
      "Test Accuracy: 0.7762233843855062\n",
      "Training Accuracy: 0.8474434260462017\n"
     ]
    }
   ],
   "source": [
    "y_pred_test = model.predict(X_test2)\n",
    "y_pred_train = model.predict(X_train2)\n",
    "\n",
    "# Convert numerical labels back to string labels\n",
    "y_pred_test_labels = y_pred_test.argmax(axis=1)\n",
    "y_pred_train_labels = y_pred_train.argmax(axis=1)\n",
    "y_test_labels = y_test2.argmax(axis=1)\n",
    "y_train_labels = y_train2.argmax(axis=1)\n",
    "\n",
    "accuracy_test = accuracy_score(y_test_labels, y_pred_test_labels)\n",
    "accuracy_train = accuracy_score(y_train_labels, y_pred_train_labels)\n",
    "\n",
    "print(\"Test Accuracy:\", accuracy_test)\n",
    "print(\"Training Accuracy:\", accuracy_train)"
   ]
  },
  {
   "cell_type": "markdown",
   "id": "707804e4",
   "metadata": {},
   "source": [
    "## ACCURACY OF EACH DEVICE TYPE"
   ]
  },
  {
   "cell_type": "code",
   "execution_count": 11,
   "id": "30043ed8",
   "metadata": {},
   "outputs": [
    {
     "name": "stdout",
     "output_type": "stream",
     "text": [
      "\u001b[1m6693/6693\u001b[0m \u001b[32m━━━━━━━━━━━━━━━━━━━━\u001b[0m\u001b[37m\u001b[0m \u001b[1m13s\u001b[0m 2ms/step\n",
      "\u001b[1m21484/21484\u001b[0m \u001b[32m━━━━━━━━━━━━━━━━━━━━\u001b[0m\u001b[37m\u001b[0m \u001b[1m41s\u001b[0m 2ms/step\n",
      "Overall Testing Accuracy: 0.7762233843855062\n",
      "Overall Training Accuracy: 0.8474434260462017\n",
      "Testing Accuracy for Airtag : 0.9622351857537611\n",
      "Testing Accuracy for Bathroom : 0.0\n",
      "Testing Accuracy for Camera : 0.9993396018742727\n",
      "Testing Accuracy for Headphone : 0.9983765673033747\n",
      "Testing Accuracy for Kitchen : 0.9860271903323263\n",
      "Testing Accuracy for Laptop : 0.8282396861554037\n",
      "Testing Accuracy for Smartphone : 0.8020377989200309\n",
      "Testing Accuracy for Smartwatch : 0.9956329870368668\n",
      "Testing Accuracy for TV : 0.3329797711947875\n",
      "Testing Accuracy for iPad : 0.993217379625277\n"
     ]
    }
   ],
   "source": [
    "y_pred_test = np.argmax(model.predict(X_test2), axis=1)\n",
    "y_pred_train = np.argmax(model.predict(X_train2), axis=1)\n",
    "y_test_labels = np.argmax(y_test2, axis=1)\n",
    "y_train_labels = np.argmax(y_train2, axis=1)\n",
    "\n",
    "overall_accuracy_test = accuracy_score(y_test_labels, y_pred_test)\n",
    "overall_accuracy_train = accuracy_score(y_train_labels, y_pred_train)\n",
    "print(\"Overall Testing Accuracy:\", overall_accuracy_test)\n",
    "print(\"Overall Training Accuracy:\", overall_accuracy_train)\n",
    "\n",
    "mapping_dict = {0: 'Airtag',\n",
    "                1: 'Bathroom',\n",
    "                2: 'Camera',\n",
    "                3: 'Headphone',\n",
    "                4: 'Kitchen',\n",
    "                5: 'Laptop',\n",
    "                6: 'Smartphone',\n",
    "                7: 'Smartwatch', \n",
    "                8: 'TV',\n",
    "                9: 'iPad'\n",
    "}\n",
    "\n",
    "unique_labels = np.unique(y_test_labels)\n",
    "for label in unique_labels:\n",
    "    mask_test = (y_test_labels == label)\n",
    "    accuracy_test = accuracy_score(y_test_labels[mask_test], y_pred_test[mask_test])\n",
    "    device_type = mapping_dict[label] \n",
    "    print(\"Testing Accuracy for\", device_type, \":\", accuracy_test)"
   ]
  },
  {
   "cell_type": "markdown",
   "id": "d96654e2",
   "metadata": {},
   "source": [
    "## PRECISION, RECALL, SPECIFICITY, F1-SCORE"
   ]
  },
  {
   "cell_type": "code",
   "execution_count": 51,
   "id": "724b4444",
   "metadata": {},
   "outputs": [
    {
     "name": "stdout",
     "output_type": "stream",
     "text": [
      "        label  precision    recall  specificity  f1-score     tp     fp  \\\n",
      "0      Airtag   0.517115  0.997237     0.985619  0.681065   3248   3033   \n",
      "1    Bathroom   0.000000  0.000000     1.000000  0.000000      0      0   \n",
      "2      Camera   1.000000  0.999937     1.000000  0.999969  31797      0   \n",
      "3   Headphone   0.496652  0.999033     0.841730  0.663470  28923  29313   \n",
      "4     Kitchen   0.949043  0.734989     0.997947  0.828412   7785    418   \n",
      "5      Laptop   0.999958  0.760757     0.999995  0.864109  24046      1   \n",
      "6  Smartphone   0.997973  0.569748     0.999803  0.725375  17726     36   \n",
      "7  Smartwatch   0.610336  0.995633     0.928131  0.756765  21659  13828   \n",
      "8          TV   0.971116  0.282749     0.999448  0.437977   3732    111   \n",
      "9        iPad   0.519576  0.994560     0.931279  0.682567  14810  13694   \n",
      "\n",
      "       tn     fn  \n",
      "0  207870      9  \n",
      "1  187163  26997  \n",
      "2  182361      2  \n",
      "3  155896     28  \n",
      "4  203150   2807  \n",
      "5  182551   7562  \n",
      "6  183012  13386  \n",
      "7  178578     95  \n",
      "8  200850   9467  \n",
      "9  185575     81  \n"
     ]
    }
   ],
   "source": [
    "report = classification_report(y_test_labels, y_pred_test_labels, target_names=label_encoder.classes_, output_dict=True)\n",
    "conf_matrix = confusion_matrix(y_test_labels, y_pred_test_labels)\n",
    "label_mapping = {i: label for i, label in enumerate(label_encoder.classes_)}\n",
    "\n",
    "labels = sorted(set(y_test_labels))\n",
    "metrics = []\n",
    "\n",
    "for i, label in enumerate(labels):\n",
    "    tn = conf_matrix.sum() - (conf_matrix[:, i].sum() + conf_matrix[i, :].sum() - conf_matrix[i, i])\n",
    "    tp = conf_matrix[i, i]\n",
    "    fn = conf_matrix[i, :].sum() - tp\n",
    "    fp = conf_matrix[:, i].sum() - tp\n",
    "\n",
    "    class_name = label_mapping[label]\n",
    "    \n",
    "    precision = report[class_name]['precision']\n",
    "    recall = report[class_name]['recall']\n",
    "    f1 = report[class_name]['f1-score']\n",
    "    specificity = tn / (tn + fp)\n",
    "    \n",
    "    metrics.append({\n",
    "        'label': class_name,\n",
    "        'precision': precision,\n",
    "        'recall': recall,\n",
    "        'specificity': specificity,\n",
    "        'f1-score': f1,\n",
    "        'tp': tp,\n",
    "        'fp': fp,\n",
    "        'tn': tn,\n",
    "        'fn': fn\n",
    "    })\n",
    "print(pd.DataFrame(metrics))"
   ]
  },
  {
   "cell_type": "markdown",
   "id": "769e7b35",
   "metadata": {},
   "source": [
    "## CONFUSION MATRIX"
   ]
  },
  {
   "cell_type": "code",
   "execution_count": 37,
   "id": "42b18678",
   "metadata": {},
   "outputs": [
    {
     "name": "stdout",
     "output_type": "stream",
     "text": [
      "\u001b[1m6693/6693\u001b[0m \u001b[32m━━━━━━━━━━━━━━━━━━━━\u001b[0m\u001b[37m\u001b[0m \u001b[1m5s\u001b[0m 758us/step\n",
      "\u001b[1m21484/21484\u001b[0m \u001b[32m━━━━━━━━━━━━━━━━━━━━\u001b[0m\u001b[37m\u001b[0m \u001b[1m16s\u001b[0m 764us/step\n"
     ]
    },
    {
     "data": {
      "image/png": "[encoded data removed]",
      "text/plain": [
       "<Figure size 720x576 with 2 Axes>"
      ]
     },
     "metadata": {
      "needs_background": "light"
     },
     "output_type": "display_data"
    }
   ],
   "source": [
    "conf_matrix = confusion_matrix(y_test_labels, y_pred_test)\n",
    "class_names = label_encoder.classes_\n",
    "plt.figure(figsize=(10, 8))\n",
    "sns.heatmap(conf_matrix, annot=True, fmt='d', cmap='Blues', \n",
    "            xticklabels=class_names, \n",
    "            yticklabels=class_names)\n",
    "plt.xlabel('Predicted Labels')\n",
    "plt.ylabel('True Labels')\n",
    "plt.title('Confusion Matrix')\n",
    "#plt.savefig('Classification/Confusion Matrix MLP2.png', bbox_inches='tight')\n",
    "plt.show()"
   ]
  },
  {
   "cell_type": "markdown",
   "id": "ef8748e3",
   "metadata": {},
   "source": [
    "## CHECK OVERFITTING"
   ]
  },
  {
   "cell_type": "code",
   "execution_count": 30,
   "id": "108dd16d",
   "metadata": {},
   "outputs": [
    {
     "name": "stdout",
     "output_type": "stream",
     "text": [
      "\u001b[1m21484/21484\u001b[0m \u001b[32m━━━━━━━━━━━━━━━━━━━━\u001b[0m\u001b[37m\u001b[0m \u001b[1m12s\u001b[0m 560us/step\n",
      "\u001b[1m6693/6693\u001b[0m \u001b[32m━━━━━━━━━━━━━━━━━━━━\u001b[0m\u001b[37m\u001b[0m \u001b[1m4s\u001b[0m 577us/step\n",
      "Train Accuracy: 0.8474434260462017\n",
      "Test Accuracy: 0.7762233843855062\n"
     ]
    }
   ],
   "source": [
    "# Comparing training and test accuracies\n",
    "y_pred_train = np.argmax(model.predict(X_train2), axis=1)\n",
    "y_pred_test = np.argmax(model.predict(X_test2), axis=1)\n",
    "\n",
    "train_accuracy = accuracy_score(y_train_labels, y_pred_train)\n",
    "test_accuracy = accuracy_score(y_test_labels, y_pred_test)\n",
    "print(\"Train Accuracy:\", train_accuracy)\n",
    "print(\"Test Accuracy:\", test_accuracy)"
   ]
  },
  {
   "cell_type": "markdown",
   "id": "f8da93bb",
   "metadata": {},
   "source": [
    "# TRAIN MLP ON SELECTED FEATURES"
   ]
  },
  {
   "cell_type": "markdown",
   "id": "6233b4ff",
   "metadata": {},
   "source": [
    "Need to preprocess the data again cause not able to open the file 'all_data_final' because of its size"
   ]
  },
  {
   "cell_type": "code",
   "execution_count": 48,
   "id": "3ea7c0e7",
   "metadata": {},
   "outputs": [
    {
     "name": "stdout",
     "output_type": "stream",
     "text": [
      "['PDU Type', 'Info', 'Channel Selection Algorithm', 'Tx Address', 'Rx Address', 'Simultaneous LE and BR/EDR to Same Device Capable (Host)', 'Simultaneous LE and BR/EDR to Same Device Capable (Controller)', 'BR/EDR Not Supported', 'LE General Discoverable Mode', 'LE Limited Discoverable Mode', 'label', 'subcategory', 'Packet Direction']\n",
      "Total number of rows: 901623\n",
      "Rows with NaN values:\n"
     ]
    }
   ],
   "source": [
    "def get_feature_types(df):\n",
    "    numerical_features = []\n",
    "    categorical_features = []\n",
    "    boolean_features = []\n",
    "    for column_name, column_type in df.dtypes.items():\n",
    "        if column_type in ['int64', 'float64']:\n",
    "            numerical_features.append(column_name)\n",
    "        elif column_type == 'object':\n",
    "            categorical_features.append(column_name)\n",
    "        elif column_type == 'bool':\n",
    "            boolean_features.append(column_name)\n",
    "    return numerical_features, categorical_features, boolean_features\n",
    "\n",
    "numerical_features, categorical_features, boolean_features = get_feature_types(data)\n",
    "\n",
    "def one_hot_encode_features(data, categorical_features):\n",
    "    if 'label' in categorical_features:\n",
    "        categorical_features.remove('label')\n",
    "    if 'subcategory' in categorical_features:\n",
    "        categorical_features.remove('subcategory')\n",
    "    data = pd.get_dummies(data, columns=categorical_features, drop_first=True)\n",
    "    return data\n",
    "\n",
    "data = one_hot_encode_features(data, categorical_features)\n",
    "data.fillna(0, inplace=True)"
   ]
  },
  {
   "cell_type": "markdown",
   "id": "790c4cb9",
   "metadata": {},
   "source": [
    "Split data based on the alternative data splitting method"
   ]
  },
  {
   "cell_type": "code",
   "execution_count": 49,
   "id": "8f754414",
   "metadata": {},
   "outputs": [
    {
     "name": "stdout",
     "output_type": "stream",
     "text": [
      "Total data count: 901623\n",
      "Training data count: 687463 (76.25%)\n",
      "Testing data count: 214160 (23.75%)\n",
      "Label: Laptop\n",
      "  Training subcategories: Dell Laptop, Hp Laptop\n",
      "  Testing subcategories: Dell Laptop, Hp Laptop, Apple Laptop\n",
      "\n",
      "Label: Headphone\n",
      "  Training subcategories: Apple Headphone, Sony Linkbuds Headphone, Bose-1 Headphone, Sony XM4 Headphone, Sony XM3 Headphone, Samsung Headphone, Bose-2 Headphone\n",
      "  Testing subcategories: Apple Headphone, Sony XM3 Headphone, Sony XM4 Headphone, Bose-2 Headphone, Sony Linkbuds Headphone, Bose-1 Headphone, Samsung Headphone, Beats Headphone\n",
      "\n",
      "Label: iPad\n",
      "  Training subcategories: Apple iPad\n",
      "  Testing subcategories: Apple iPad\n",
      "\n",
      "Label: Airtag\n",
      "  Training subcategories: Apple Airtag\n",
      "  Testing subcategories: Apple Airtag\n",
      "\n",
      "Label: TV\n",
      "  Training subcategories: LG TV\n",
      "  Testing subcategories: LG TV, Samsung TV\n",
      "\n",
      "Label: Kitchen\n",
      "  Training subcategories: Kettle, Airfryer\n",
      "  Testing subcategories: Kettle, Airfryer, Mixer\n",
      "\n",
      "Label: Smartwatch\n",
      "  Training subcategories: Apple Smartwatch, Ericsson Smartwatch, Fitbit Smartwatch, Huawei Smartwatch\n",
      "  Testing subcategories: Apple Smartwatch, Ericsson Smartwatch, Fitbit Smartwatch, Huawei Smartwatch, Galaxy Smartwatch\n",
      "\n",
      "Label: Camera\n",
      "  Training subcategories: GoPro5, GoPro9, Rollei Camera, Canon, GoPro10\n",
      "  Testing subcategories: Rollei Camera, Canon, GoPro10, GoPro9, GoPro5, GoPro4\n",
      "\n",
      "Label: Smartphone\n",
      "  Training subcategories: Nokia Smartphone, Samsung Smartphone, Huawei Smartphone, Google Smartphone\n",
      "  Testing subcategories: Google Smartphone, Huawei Smartphone, Nokia Smartphone, Samsung Smartphone, Apple Smartphone\n",
      "\n",
      "Label: Bathroom\n",
      "  Training subcategories: Toothbrush\n",
      "  Testing subcategories: Toothbrush, AquaClean Shower Toilet\n",
      "\n"
     ]
    }
   ],
   "source": [
    "train_data_approach2, test_data_approach2 = split_train_test_approach2(data)"
   ]
  },
  {
   "cell_type": "code",
   "execution_count": 50,
   "id": "05825431",
   "metadata": {},
   "outputs": [
    {
     "name": "stdout",
     "output_type": "stream",
     "text": [
      "\u001b[1m6693/6693\u001b[0m \u001b[32m━━━━━━━━━━━━━━━━━━━━\u001b[0m\u001b[37m\u001b[0m \u001b[1m7s\u001b[0m 1ms/step\n",
      "Number of features: 1, Test accuracy: 0.5256163615988046\n",
      "\u001b[1m6693/6693\u001b[0m \u001b[32m━━━━━━━━━━━━━━━━━━━━\u001b[0m\u001b[37m\u001b[0m \u001b[1m5s\u001b[0m 800us/step\n",
      "Number of features: 2, Test accuracy: 0.5895125140082181\n",
      "\u001b[1m6693/6693\u001b[0m \u001b[32m━━━━━━━━━━━━━━━━━━━━\u001b[0m\u001b[37m\u001b[0m \u001b[1m5s\u001b[0m 719us/step\n",
      "Number of features: 3, Test accuracy: 0.6382844602166604\n",
      "\u001b[1m6693/6693\u001b[0m \u001b[32m━━━━━━━━━━━━━━━━━━━━\u001b[0m\u001b[37m\u001b[0m \u001b[1m5s\u001b[0m 715us/step\n",
      "Number of features: 4, Test accuracy: 0.6549589092267464\n",
      "\u001b[1m6693/6693\u001b[0m \u001b[32m━━━━━━━━━━━━━━━━━━━━\u001b[0m\u001b[37m\u001b[0m \u001b[1m5s\u001b[0m 764us/step\n",
      "Number of features: 5, Test accuracy: 0.7279463952185282\n",
      "\u001b[1m6693/6693\u001b[0m \u001b[32m━━━━━━━━━━━━━━━━━━━━\u001b[0m\u001b[37m\u001b[0m \u001b[1m5s\u001b[0m 689us/step\n",
      "Number of features: 6, Test accuracy: 0.71036141202839\n",
      "\u001b[1m6693/6693\u001b[0m \u001b[32m━━━━━━━━━━━━━━━━━━━━\u001b[0m\u001b[37m\u001b[0m \u001b[1m5s\u001b[0m 685us/step\n",
      "Number of features: 7, Test accuracy: 0.7038569293985805\n",
      "\u001b[1m6693/6693\u001b[0m \u001b[32m━━━━━━━━━━━━━━━━━━━━\u001b[0m\u001b[37m\u001b[0m \u001b[1m5s\u001b[0m 680us/step\n",
      "Number of features: 8, Test accuracy: 0.7001587598057527\n",
      "\u001b[1m6693/6693\u001b[0m \u001b[32m━━━━━━━━━━━━━━━━━━━━\u001b[0m\u001b[37m\u001b[0m \u001b[1m5s\u001b[0m 695us/step\n",
      "Number of features: 9, Test accuracy: 0.7261813597310423\n",
      "\u001b[1m6693/6693\u001b[0m \u001b[32m━━━━━━━━━━━━━━━━━━━━\u001b[0m\u001b[37m\u001b[0m \u001b[1m5s\u001b[0m 708us/step\n",
      "Number of features: 10, Test accuracy: 0.7145031751961151\n",
      "\u001b[1m6693/6693\u001b[0m \u001b[32m━━━━━━━━━━━━━━━━━━━━\u001b[0m\u001b[37m\u001b[0m \u001b[1m6s\u001b[0m 962us/step\n",
      "Number of features: 11, Test accuracy: 0.7128081807994023\n",
      "\u001b[1m6693/6693\u001b[0m \u001b[32m━━━━━━━━━━━━━━━━━━━━\u001b[0m\u001b[37m\u001b[0m \u001b[1m7s\u001b[0m 986us/step\n",
      "Number of features: 12, Test accuracy: 0.7122898767276803\n",
      "\u001b[1m6693/6693\u001b[0m \u001b[32m━━━━━━━━━━━━━━━━━━━━\u001b[0m\u001b[37m\u001b[0m \u001b[1m5s\u001b[0m 713us/step\n",
      "Number of features: 13, Test accuracy: 0.7314998132237579\n",
      "\u001b[1m6693/6693\u001b[0m \u001b[32m━━━━━━━━━━━━━━━━━━━━\u001b[0m\u001b[37m\u001b[0m \u001b[1m5s\u001b[0m 685us/step\n",
      "Number of features: 14, Test accuracy: 0.7401195367949197\n",
      "\u001b[1m6693/6693\u001b[0m \u001b[32m━━━━━━━━━━━━━━━━━━━━\u001b[0m\u001b[37m\u001b[0m \u001b[1m5s\u001b[0m 703us/step\n",
      "Number of features: 15, Test accuracy: 0.7403623459096003\n",
      "\u001b[1m6693/6693\u001b[0m \u001b[32m━━━━━━━━━━━━━━━━━━━━\u001b[0m\u001b[37m\u001b[0m \u001b[1m5s\u001b[0m 725us/step\n",
      "Number of features: 16, Test accuracy: 0.7336757564437804\n",
      "\u001b[1m6693/6693\u001b[0m \u001b[32m━━━━━━━━━━━━━━━━━━━━\u001b[0m\u001b[37m\u001b[0m \u001b[1m5s\u001b[0m 693us/step\n",
      "Number of features: 17, Test accuracy: 0.7247618602913709\n",
      "\u001b[1m6693/6693\u001b[0m \u001b[32m━━━━━━━━━━━━━━━━━━━━\u001b[0m\u001b[37m\u001b[0m \u001b[1m5s\u001b[0m 704us/step\n",
      "Number of features: 18, Test accuracy: 0.7267697048935375\n",
      "\u001b[1m6693/6693\u001b[0m \u001b[32m━━━━━━━━━━━━━━━━━━━━\u001b[0m\u001b[37m\u001b[0m \u001b[1m5s\u001b[0m 665us/step\n",
      "Number of features: 19, Test accuracy: 0.7211103847590586\n",
      "\u001b[1m6693/6693\u001b[0m \u001b[32m━━━━━━━━━━━━━━━━━━━━\u001b[0m\u001b[37m\u001b[0m \u001b[1m5s\u001b[0m 691us/step\n",
      "Number of features: 20, Test accuracy: 0.7267183414269704\n",
      "\u001b[1m6693/6693\u001b[0m \u001b[32m━━━━━━━━━━━━━━━━━━━━\u001b[0m\u001b[37m\u001b[0m \u001b[1m5s\u001b[0m 728us/step\n",
      "Number of features: 21, Test accuracy: 0.733274187523347\n",
      "\u001b[1m6693/6693\u001b[0m \u001b[32m━━━━━━━━━━━━━━━━━━━━\u001b[0m\u001b[37m\u001b[0m \u001b[1m5s\u001b[0m 759us/step\n",
      "Number of features: 22, Test accuracy: 0.731000186776242\n",
      "\u001b[1m6693/6693\u001b[0m \u001b[32m━━━━━━━━━━━━━━━━━━━━\u001b[0m\u001b[37m\u001b[0m \u001b[1m5s\u001b[0m 724us/step\n",
      "Number of features: 23, Test accuracy: 0.7235197982816586\n",
      "\u001b[1m6693/6693\u001b[0m \u001b[32m━━━━━━━━━━━━━━━━━━━━\u001b[0m\u001b[37m\u001b[0m \u001b[1m5s\u001b[0m 718us/step\n",
      "Number of features: 24, Test accuracy: 0.7400074710496825\n",
      "\u001b[1m6693/6693\u001b[0m \u001b[32m━━━━━━━━━━━━━━━━━━━━\u001b[0m\u001b[37m\u001b[0m \u001b[1m5s\u001b[0m 703us/step\n",
      "Number of features: 25, Test accuracy: 0.7300476279417258\n",
      "\u001b[1m6693/6693\u001b[0m \u001b[32m━━━━━━━━━━━━━━━━━━━━\u001b[0m\u001b[37m\u001b[0m \u001b[1m5s\u001b[0m 736us/step\n",
      "Number of features: 26, Test accuracy: 0.7352960403436682\n",
      "\u001b[1m6693/6693\u001b[0m \u001b[32m━━━━━━━━━━━━━━━━━━━━\u001b[0m\u001b[37m\u001b[0m \u001b[1m7s\u001b[0m 1ms/step\n",
      "Number of features: 27, Test accuracy: 0.7421880836757564\n",
      "\u001b[1m6693/6693\u001b[0m \u001b[32m━━━━━━━━━━━━━━━━━━━━\u001b[0m\u001b[37m\u001b[0m \u001b[1m5s\u001b[0m 736us/step\n",
      "Number of features: 28, Test accuracy: 0.7403016436309301\n",
      "\u001b[1m6693/6693\u001b[0m \u001b[32m━━━━━━━━━━━━━━━━━━━━\u001b[0m\u001b[37m\u001b[0m \u001b[1m5s\u001b[0m 715us/step\n",
      "Number of features: 29, Test accuracy: 0.7210169966380277\n",
      "\u001b[1m6693/6693\u001b[0m \u001b[32m━━━━━━━━━━━━━━━━━━━━\u001b[0m\u001b[37m\u001b[0m \u001b[1m7s\u001b[0m 1ms/step\n",
      "Number of features: 30, Test accuracy: 0.7178091146806126\n",
      "Best number of features: 27 with highest accuracy: 0.7421880836757564\n"
     ]
    }
   ],
   "source": [
    "# selected features from filter selection method\n",
    "top_features = [\n",
    "    \"Nr Forward Packets 1\",\n",
    "    \"Number of Packets 1\",\n",
    "    \"Sum Payload Length 1\",\n",
    "    \"Sum Packet Length 1\", \n",
    "    \"Sum RSSI 1\", \n",
    "    \"Nr Backward Packets 1\",\n",
    "    \"Min Payload Length 1\",\n",
    "    \"Min Packet Length 1\",\n",
    "    \"Min RSSI 1\", \n",
    "    \"Info_ADV_NONCONN_IND\",\n",
    "    \"PDU Type_0x2\", \n",
    "    \"LE Limited Discoverable Mode_True\", \n",
    "    \"BR/EDR Not Supported_True\", \n",
    "    \"Duration 1\", \n",
    "    \"Average RSSI 1\",\n",
    "    \"Average Packet Length 1\", \n",
    "    \"Average Payload Length 1\",\n",
    "    \"Sum of Delta Time 1\",\n",
    "    \"Sum Forward Delta Time 1\",\n",
    "    \"LE Bluetooth Device Address\",\n",
    "    \"Standard Deviation RSSI 1\",\n",
    "    \"Flags\",\n",
    "    \"16-bit Service Class UUIDs (incomplete)\",\n",
    "    \"Tx Address_Random\", \n",
    "    \"Manufacturer Specific_Length\",\n",
    "    \"Power Level (dBm)\", \n",
    "    \"Standard Deviation Payload Length 1\", \n",
    "    \"Standard Deviation Packet Length 1\",\n",
    "    \"Average Nr Forward Packet 1\",\n",
    "    \"Average Nr Backward Packet 1\"\n",
    "]\n",
    "\n",
    "y_train_top_dataset = train_data_approach2['label'].values\n",
    "y_test_top_dataset = test_data_approach2['label'].values\n",
    "label_encoder = LabelEncoder()\n",
    "y_train_top_dataset_encoded = label_encoder.fit_transform(y_train_top_dataset)\n",
    "y_test_top_dataset_encoded = label_encoder.transform(y_test_top_dataset)\n",
    "num_classes = len(label_encoder.classes_)\n",
    "y_train_top_dataset_categorical = to_categorical(y_train_top_dataset_encoded, num_classes=num_classes)\n",
    "y_test_top_dataset_categorical = to_categorical(y_test_top_dataset_encoded, num_classes=num_classes)\n",
    "\n",
    "best_num_features = 0\n",
    "highest_accuracy = 0\n",
    "\n",
    "# Train the MLP model with the first feature and adding in each loop one feature untill all features are included\n",
    "for i in range(1, len(top_features) + 1):\n",
    "    selected_features = top_features[:i]\n",
    "    \n",
    "    X_train_top_dataset = train_data_approach2[selected_features].values\n",
    "    X_test_top_dataset = test_data_approach2[selected_features].values\n",
    "    \n",
    "    # preprocess according to paper\n",
    "    scaler = StandardScaler()\n",
    "    X_train_top_dataset_normalized = scaler.fit_transform(X_train_top_dataset)\n",
    "    X_test_top_dataset_normalized = scaler.transform(X_test_top_dataset)\n",
    "    X_train_top_dataset_normalized = X_train_top_dataset_normalized.astype(np.float32)\n",
    "    X_test_top_dataset_normalized = X_test_top_dataset_normalized.astype(np.float32)\n",
    "    \n",
    "    # same model structure as from paper\n",
    "    model_top = Sequential([\n",
    "        Dense(128, activation='relu', input_shape=(X_train_top_dataset_normalized.shape[1],)),\n",
    "        Dropout(0.3),\n",
    "        Dense(128, activation='relu'),\n",
    "        Dropout(0.3),\n",
    "        Dense(num_classes, activation='softmax')\n",
    "    ])\n",
    "    \n",
    "    model_top.compile(optimizer='adam', loss='categorical_crossentropy', metrics=['accuracy'])\n",
    "\n",
    "    model_top.fit(X_train_top_dataset_normalized, y_train_top_dataset_categorical, epochs=50, batch_size=32, validation_split=0.2, verbose=0)\n",
    "    \n",
    "    y_pred_test = model_top.predict(X_test_top_dataset_normalized)\n",
    "    y_pred_test_labels = y_pred_test.argmax(axis=1)\n",
    "    y_test_labels = y_test_top_dataset_categorical.argmax(axis=1)\n",
    "    accuracy_test = accuracy_score(y_test_labels, y_pred_test_labels)\n",
    "    \n",
    "    if accuracy_test > highest_accuracy:\n",
    "        highest_accuracy = accuracy_test\n",
    "        best_num_features = i\n",
    "\n",
    "    print(f\"Number of features: {i}, Test accuracy: {accuracy_test}\")\n",
    "\n",
    "# The best number of features with the highest accuracy\n",
    "print(f\"Best number of features: {best_num_features} with highest accuracy: {highest_accuracy}\")"
   ]
  },
  {
   "cell_type": "code",
   "execution_count": 52,
   "id": "6b2871fa",
   "metadata": {},
   "outputs": [
    {
     "name": "stdout",
     "output_type": "stream",
     "text": [
      "\u001b[1m21484/21484\u001b[0m \u001b[32m━━━━━━━━━━━━━━━━━━━━\u001b[0m\u001b[37m\u001b[0m \u001b[1m18s\u001b[0m 850us/step\n",
      "Training accuracy with top 27 features: 0.8476252540136705\n"
     ]
    }
   ],
   "source": [
    "# Get the training accuracy of the MLP model trained on 27 features\n",
    "selected_features = top_features[:27]\n",
    "X_train_top27 = train_data_approach2[selected_features].values\n",
    "\n",
    "# proprocess accroding to paper\n",
    "scaler = StandardScaler()\n",
    "X_train_top27_normalized = scaler.fit_transform(X_train_top27)\n",
    "X_train_top27_normalized = X_train_top27_normalized.astype(np.float32)\n",
    "\n",
    "# Train the MLP model\n",
    "model_top27 = Sequential([\n",
    "    Dense(128, activation='relu', input_shape=(X_train_top27_normalized.shape[1],)),\n",
    "    Dropout(0.3),\n",
    "    Dense(128, activation='relu'),\n",
    "    Dropout(0.3),\n",
    "    Dense(num_classes, activation='softmax')\n",
    "])\n",
    "\n",
    "model_top27.compile(optimizer='adam', loss='categorical_crossentropy', metrics=['accuracy'])\n",
    "\n",
    "history = model_top27.fit(X_train_top27_normalized, y_train_top_dataset_categorical, epochs=50, batch_size=32, validation_split=0.2, verbose=0)\n",
    "\n",
    "y_pred_train = model_top27.predict(X_train_top27_normalized)\n",
    "y_pred_train_labels = y_pred_train.argmax(axis=1)\n",
    "y_train_labels = y_train_top_dataset_categorical.argmax(axis=1)\n",
    "accuracy_train = accuracy_score(y_train_labels, y_pred_train_labels)\n",
    "\n",
    "print(f\"Training accuracy with top 27 features: {accuracy_train}\")"
   ]
  },
  {
   "cell_type": "code",
   "execution_count": null,
   "id": "ff01293b",
   "metadata": {},
   "outputs": [],
   "source": []
  }
 ],
 "metadata": {
  "kernelspec": {
   "display_name": "Python 3 (ipykernel)",
   "language": "python",
   "name": "python3"
  },
  "language_info": {
   "codemirror_mode": {
    "name": "ipython",
    "version": 3
   },
   "file_extension": ".py",
   "mimetype": "text/x-python",
   "name": "python",
   "nbconvert_exporter": "python",
   "pygments_lexer": "ipython3",
   "version": "3.9.12"
  }
 },
 "nbformat": 4,
 "nbformat_minor": 5
}
