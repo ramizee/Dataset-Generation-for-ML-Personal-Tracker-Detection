{
 "cells": [
  {
   "cell_type": "markdown",
   "id": "ff0b3d1b",
   "metadata": {},
   "source": [
    "# Further ML Models on 80/20 Data Splitting Approach"
   ]
  },
  {
   "cell_type": "code",
   "execution_count": 8,
   "id": "78f30d8a",
   "metadata": {},
   "outputs": [],
   "source": [
    "import warnings\n",
    "warnings.filterwarnings('ignore')\n",
    "import pandas as pd\n",
    "import random\n",
    "import numpy as np\n",
    "random.seed(42)\n",
    "np.random.seed(42)\n",
    "from sklearn.model_selection import train_test_split\n",
    "from sklearn.ensemble import RandomForestClassifier\n",
    "from sklearn.tree import DecisionTreeClassifier\n",
    "from sklearn.svm import SVC\n",
    "from sklearn.neural_network import MLPClassifier\n",
    "from sklearn.linear_model import LogisticRegression\n",
    "from sklearn.neighbors import KNeighborsClassifier\n",
    "from sklearn.metrics import accuracy_score\n",
    "from sklearn.preprocessing import LabelEncoder\n",
    "import joblib\n",
    "from sklearn.preprocessing import LabelBinarizer\n",
    "from sklearn.naive_bayes import GaussianNB"
   ]
  },
  {
   "cell_type": "markdown",
   "id": "b0abc11c",
   "metadata": {},
   "source": [
    "LOAD TRAINING AND TEST DATASETS"
   ]
  },
  {
   "cell_type": "code",
   "execution_count": 9,
   "id": "2365d818",
   "metadata": {},
   "outputs": [],
   "source": [
    "X = joblib.load('csv 20 minutes/labeled2/features_final/together/X1.pkl')\n",
    "y = joblib.load('csv 20 minutes/labeled2/features_final/together/y1.pkl')\n",
    "X_train = joblib.load('csv 20 minutes/labeled2/features_final/together/X_train1.pkl')\n",
    "X_test = joblib.load('csv 20 minutes/labeled2/features_final/together/X_test1.pkl')\n",
    "y_train = joblib.load('csv 20 minutes/labeled2/features_final/together/y_train1.pkl')\n",
    "y_test = joblib.load('csv 20 minutes/labeled2/features_final/together/y_test1.pkl')"
   ]
  },
  {
   "cell_type": "markdown",
   "id": "6381c401",
   "metadata": {},
   "source": [
    "Train all models"
   ]
  },
  {
   "cell_type": "code",
   "execution_count": 3,
   "id": "652576f4",
   "metadata": {},
   "outputs": [
    {
     "name": "stdout",
     "output_type": "stream",
     "text": [
      "Random Forest Accuracy: 0.9997171773187301\n",
      "Naive Bayes Accuracy: 0.3986025232219603\n",
      "Decision Tree Accuracy: 0.9996062664633301\n"
     ]
    }
   ],
   "source": [
    "classifiers = {\n",
    "    \"Random Forest\": RandomForestClassifier(n_estimators=100, random_state=42),\n",
    "    \"Naive Bayes\": GaussianNB(),\n",
    "    \"Decision Tree\": DecisionTreeClassifier(random_state=42),\n",
    "}\n",
    "\n",
    "# Model Training and Evaluation\n",
    "for clf_name, clf in classifiers.items():\n",
    "    clf.fit(X_train, y_train)\n",
    "    y_pred = clf.predict(X_test)\n",
    "    accuracy = accuracy_score(y_test, y_pred)\n",
    "    print(f\"{clf_name} Accuracy: {accuracy}\")"
   ]
  },
  {
   "cell_type": "code",
   "execution_count": 4,
   "id": "5c15a0a5",
   "metadata": {},
   "outputs": [
    {
     "name": "stdout",
     "output_type": "stream",
     "text": [
      "Neural Network Accuracy: 0.696098710661306\n"
     ]
    }
   ],
   "source": [
    "classifiers = {\n",
    "    \"Neural Network\": MLPClassifier(hidden_layer_sizes=(100,), max_iter=1000, random_state=42),\n",
    "}\n",
    "\n",
    "# Model Training and Evaluation\n",
    "for clf_name, clf in classifiers.items():\n",
    "    clf.fit(X_train, y_train)\n",
    "    y_pred = clf.predict(X_test)\n",
    "    accuracy = accuracy_score(y_test, y_pred)\n",
    "    print(f\"{clf_name} Accuracy: {accuracy}\")"
   ]
  },
  {
   "cell_type": "markdown",
   "id": "c7fce499",
   "metadata": {},
   "source": [
    "KNN and SVM need to much time to be trained, therefore they are commented out"
   ]
  },
  {
   "cell_type": "code",
   "execution_count": 5,
   "id": "b9b459eb",
   "metadata": {},
   "outputs": [
    {
     "name": "stdout",
     "output_type": "stream",
     "text": [
      "Logistic Regression Accuracy: 0.3887037293775128\n"
     ]
    }
   ],
   "source": [
    "classifiers = {\n",
    "    \"Logistic Regression\": LogisticRegression(max_iter=1000, random_state=42),\n",
    "    #\"KNN\": KNeighborsClassifier(n_neighbors=5, n_jobs=1),\n",
    "    #\"SVM\": SVC(kernel='linear', random_state=42)\n",
    "}\n",
    "\n",
    "# Model Training and Evaluation\n",
    "for clf_name, clf in classifiers.items():\n",
    "    clf.fit(X_train, y_train)\n",
    "    y_pred = clf.predict(X_test)\n",
    "    accuracy = accuracy_score(y_test, y_pred)\n",
    "    print(f\"{clf_name} Accuracy: {accuracy}\")"
   ]
  },
  {
   "cell_type": "code",
   "execution_count": null,
   "id": "8f81cad7",
   "metadata": {},
   "outputs": [],
   "source": []
  }
 ],
 "metadata": {
  "kernelspec": {
   "display_name": "Python 3 (ipykernel)",
   "language": "python",
   "name": "python3"
  },
  "language_info": {
   "codemirror_mode": {
    "name": "ipython",
    "version": 3
   },
   "file_extension": ".py",
   "mimetype": "text/x-python",
   "name": "python",
   "nbconvert_exporter": "python",
   "pygments_lexer": "ipython3",
   "version": "3.9.12"
  }
 },
 "nbformat": 4,
 "nbformat_minor": 5
}
