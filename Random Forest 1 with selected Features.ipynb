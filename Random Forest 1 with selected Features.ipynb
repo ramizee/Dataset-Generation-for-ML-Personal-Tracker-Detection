{
 "cells": [
  {
   "cell_type": "markdown",
   "id": "677d44ed",
   "metadata": {},
   "source": [
    "# Random Forest on 80/20 Data Splitting Approach with selected Features"
   ]
  },
  {
   "cell_type": "code",
   "execution_count": 1,
   "id": "c3d47410",
   "metadata": {},
   "outputs": [],
   "source": [
    "import warnings\n",
    "warnings.filterwarnings('ignore')\n",
    "import pandas as pd\n",
    "import numpy as np\n",
    "import joblib\n",
    "import seaborn as sns\n",
    "import re\n",
    "from sklearn.model_selection import cross_val_score, train_test_split, learning_curve\n",
    "from sklearn.ensemble import RandomForestClassifier\n",
    "from sklearn.preprocessing import LabelEncoder\n",
    "\n",
    "from collections import Counter\n",
    "import matplotlib.pyplot as plt\n",
    "import matplotlib.colors as mcolors\n",
    "from prettytable import PrettyTable\n",
    "\n",
    "from sklearn.model_selection import GridSearchCV\n",
    "from sklearn.model_selection import RandomizedSearchCV\n",
    "from sklearn.feature_selection import SelectKBest, f_classif, SelectFromModel\n",
    "from sklearn.metrics import classification_report, accuracy_score, f1_score, confusion_matrix, precision_score, recall_score\n",
    "from sklearn.preprocessing import LabelBinarizer\n",
    "from sklearn import metrics"
   ]
  },
  {
   "cell_type": "markdown",
   "id": "331de431",
   "metadata": {},
   "source": [
    "LOAD TRAINING AND TEST DATASETS"
   ]
  },
  {
   "cell_type": "code",
   "execution_count": 3,
   "id": "475297ae",
   "metadata": {},
   "outputs": [],
   "source": [
    "X = joblib.load('csv 20 minutes/labeled2/features_final/together/X.pkl')\n",
    "y = joblib.load('csv 20 minutes/labeled2/features_final/together/y.pkl')\n",
    "X_train = joblib.load('csv 20 minutes/labeled2/features_final/together/X_train1.pkl')\n",
    "X_test = joblib.load('csv 20 minutes/labeled2/features_final/together/X_test1.pkl')\n",
    "y_train = joblib.load('csv 20 minutes/labeled2/features_final/together/y_train1.pkl')\n",
    "y_test = joblib.load('csv 20 minutes/labeled2/features_final/together/y_test1.pkl')"
   ]
  },
  {
   "cell_type": "markdown",
   "id": "2bda3ffb",
   "metadata": {},
   "source": [
    "Need to preprocess the data again cause not able to open the file 'all_data_final' because of its size"
   ]
  },
  {
   "cell_type": "code",
   "execution_count": 2,
   "id": "405f8a19",
   "metadata": {},
   "outputs": [
    {
     "name": "stdout",
     "output_type": "stream",
     "text": [
      "['PDU Type', 'Info', 'Channel Selection Algorithm', 'Tx Address', 'Rx Address', 'Simultaneous LE and BR/EDR to Same Device Capable (Host)', 'Simultaneous LE and BR/EDR to Same Device Capable (Controller)', 'BR/EDR Not Supported', 'LE General Discoverable Mode', 'LE Limited Discoverable Mode', 'label', 'subcategory', 'Packet Direction']\n",
      "Total number of rows: 901623\n",
      "Rows with NaN values:\n"
     ]
    }
   ],
   "source": [
    "input_csv_file = 'csv 20 minutes/labeled2/features_final/together/all_data_final_before_one_hot_encoded.csv'\n",
    "data = pd.read_csv(input_csv_file, delimiter=';', encoding='ISO-8859-1')\n",
    "\n",
    "def get_feature_types(df):\n",
    "    numerical_features = []\n",
    "    categorical_features = []\n",
    "    boolean_features = []\n",
    "    for column_name, column_type in df.dtypes.items():\n",
    "        if column_type in ['int64', 'float64']:\n",
    "            numerical_features.append(column_name)\n",
    "        elif column_type == 'object':\n",
    "            categorical_features.append(column_name)\n",
    "        elif column_type == 'bool':\n",
    "            boolean_features.append(column_name)\n",
    "    return numerical_features, categorical_features, boolean_features\n",
    "\n",
    "numerical_features, categorical_features, boolean_features = get_feature_types(data)\n",
    "\n",
    "def one_hot_encode_features(data, categorical_features):\n",
    "    if 'label' in categorical_features:\n",
    "        categorical_features.remove('label')\n",
    "    if 'subcategory' in categorical_features:\n",
    "        categorical_features.remove('subcategory')\n",
    "    data = pd.get_dummies(data, columns=categorical_features, drop_first=True)\n",
    "    return data\n",
    "\n",
    "data = one_hot_encode_features(data, categorical_features)\n",
    "\n",
    "data.fillna(0, inplace=True)"
   ]
  },
  {
   "cell_type": "markdown",
   "id": "6a8d3ce6",
   "metadata": {},
   "source": [
    "Need to get the selected features from the embedded feature selection method"
   ]
  },
  {
   "cell_type": "code",
   "execution_count": null,
   "id": "ff9d5f77",
   "metadata": {},
   "outputs": [],
   "source": [
    "rf_classifier = RandomForestClassifier(n_estimators=100, random_state=42)\n",
    "selectfrommodel = SelectFromModel(rf_classifier, prefit=False)\n",
    "selectfrommodel.fit(X_train, y_train)\n",
    "X_train_embedded = selectfrommodel.transform(X_train)\n",
    "selected_indices_embedded = selectfrommodel.get_support(indices=True)\n",
    "selected_features_embedded = X_train.columns[selected_indices_embedded]\n",
    "rf_classifier.fit(X_train_embedded, y_train)\n",
    "feature_importances = rf_classifier.feature_importances_\n",
    "selected_features_embedded_sorted = [feature for _, feature in sorted(zip(feature_importances, selected_features_embedded), reverse=True)]\n",
    "feature_importances_sorted = sorted(feature_importances, reverse=True)"
   ]
  },
  {
   "cell_type": "markdown",
   "id": "a17028be",
   "metadata": {},
   "source": [
    "## Train the RF classifier on the selected features and get the best number of features with the highest accuracy"
   ]
  },
  {
   "cell_type": "code",
   "execution_count": 5,
   "id": "0b4658d4",
   "metadata": {},
   "outputs": [
    {
     "name": "stdout",
     "output_type": "stream",
     "text": [
      "Number of features: 1, Training Accuracy: 0.9991834165629185, Test Accuracy: 0.9990350755580203\n",
      "Number of features: 2, Training Accuracy: 0.9992568952083605, Test Accuracy: 0.9991071676140302\n",
      "Number of features: 3, Training Accuracy: 0.9992568952083605, Test Accuracy: 0.9991071676140302\n",
      "Number of features: 4, Training Accuracy: 0.999262440766507, Test Accuracy: 0.9991238042423403\n",
      "Number of features: 5, Training Accuracy: 0.9999084982905817, Test Accuracy: 0.9994787189796202\n",
      "Number of features: 6, Training Accuracy: 0.9999084982905817, Test Accuracy: 0.9994842645223901\n",
      "Number of features: 7, Training Accuracy: 0.9999514763662176, Test Accuracy: 0.9995341744073201\n",
      "Number of features: 8, Training Accuracy: 0.9999514763662176, Test Accuracy: 0.9994953556079301\n",
      "Number of features: 9, Training Accuracy: 0.9999528627557542, Test Accuracy: 0.9995397199500902\n",
      "Number of features: 10, Training Accuracy: 0.9999528627557542, Test Accuracy: 0.9994842645223901\n",
      "Number of features: 11, Training Accuracy: 0.9999528627557542, Test Accuracy: 0.9994898100651601\n",
      "Number of features: 12, Training Accuracy: 0.9999528627557542, Test Accuracy: 0.9995064466934701\n",
      "Number of features: 13, Training Accuracy: 0.9999528627557542, Test Accuracy: 0.9995064466934701\n",
      "Number of features: 14, Training Accuracy: 0.9999528627557542, Test Accuracy: 0.9995064466934701\n",
      "Number of features: 15, Training Accuracy: 0.9999528627557542, Test Accuracy: 0.9995009011507001\n",
      "Number of features: 16, Training Accuracy: 0.9999528627557542, Test Accuracy: 0.9995563565784001\n",
      "Number of features: 17, Training Accuracy: 0.9999528627557542, Test Accuracy: 0.9995341744073201\n",
      "Number of features: 18, Training Accuracy: 0.9999528627557542, Test Accuracy: 0.9995286288645501\n",
      "Number of features: 19, Training Accuracy: 0.9999528627557542, Test Accuracy: 0.9995397199500902\n",
      "Number of features: 20, Training Accuracy: 0.9999528627557542, Test Accuracy: 0.9995286288645501\n",
      "Number of features: 21, Training Accuracy: 0.9999528627557542, Test Accuracy: 0.9995508110356301\n",
      "Number of features: 22, Training Accuracy: 0.9999528627557542, Test Accuracy: 0.9995341744073201\n",
      "Number of features: 23, Training Accuracy: 0.9999528627557542, Test Accuracy: 0.9995286288645501\n",
      "Number of features: 24, Training Accuracy: 0.9999528627557542, Test Accuracy: 0.9995397199500902\n",
      "Number of features: 25, Training Accuracy: 0.9999528627557542, Test Accuracy: 0.9995341744073201\n",
      "Number of features: 26, Training Accuracy: 0.9999528627557542, Test Accuracy: 0.9995452654928602\n",
      "Number of features: 27, Training Accuracy: 0.9999528627557542, Test Accuracy: 0.9995341744073201\n",
      "Number of features: 28, Training Accuracy: 0.9999528627557542, Test Accuracy: 0.9995397199500902\n",
      "Number of features: 29, Training Accuracy: 0.9999528627557542, Test Accuracy: 0.9995452654928602\n",
      "Number of features: 30, Training Accuracy: 0.9999528627557542, Test Accuracy: 0.9995508110356301\n",
      "Best number of features: 16\n",
      "Best Training Accuracy: 0.9999528627557542\n",
      "Best Test Accuracy: 0.9995563565784001\n",
      "All results:\n",
      "Top 1 Features - Training Accuracy: 0.9991834165629185, Test Accuracy: 0.9990350755580203\n",
      "Top 2 Features - Training Accuracy: 0.9992568952083605, Test Accuracy: 0.9991071676140302\n",
      "Top 3 Features - Training Accuracy: 0.9992568952083605, Test Accuracy: 0.9991071676140302\n",
      "Top 4 Features - Training Accuracy: 0.999262440766507, Test Accuracy: 0.9991238042423403\n",
      "Top 5 Features - Training Accuracy: 0.9999084982905817, Test Accuracy: 0.9994787189796202\n",
      "Top 6 Features - Training Accuracy: 0.9999084982905817, Test Accuracy: 0.9994842645223901\n",
      "Top 7 Features - Training Accuracy: 0.9999514763662176, Test Accuracy: 0.9995341744073201\n",
      "Top 8 Features - Training Accuracy: 0.9999514763662176, Test Accuracy: 0.9994953556079301\n",
      "Top 9 Features - Training Accuracy: 0.9999528627557542, Test Accuracy: 0.9995397199500902\n",
      "Top 10 Features - Training Accuracy: 0.9999528627557542, Test Accuracy: 0.9994842645223901\n",
      "Top 11 Features - Training Accuracy: 0.9999528627557542, Test Accuracy: 0.9994898100651601\n",
      "Top 12 Features - Training Accuracy: 0.9999528627557542, Test Accuracy: 0.9995064466934701\n",
      "Top 13 Features - Training Accuracy: 0.9999528627557542, Test Accuracy: 0.9995064466934701\n",
      "Top 14 Features - Training Accuracy: 0.9999528627557542, Test Accuracy: 0.9995064466934701\n",
      "Top 15 Features - Training Accuracy: 0.9999528627557542, Test Accuracy: 0.9995009011507001\n",
      "Top 16 Features - Training Accuracy: 0.9999528627557542, Test Accuracy: 0.9995563565784001\n",
      "Top 17 Features - Training Accuracy: 0.9999528627557542, Test Accuracy: 0.9995341744073201\n",
      "Top 18 Features - Training Accuracy: 0.9999528627557542, Test Accuracy: 0.9995286288645501\n",
      "Top 19 Features - Training Accuracy: 0.9999528627557542, Test Accuracy: 0.9995397199500902\n",
      "Top 20 Features - Training Accuracy: 0.9999528627557542, Test Accuracy: 0.9995286288645501\n",
      "Top 21 Features - Training Accuracy: 0.9999528627557542, Test Accuracy: 0.9995508110356301\n",
      "Top 22 Features - Training Accuracy: 0.9999528627557542, Test Accuracy: 0.9995341744073201\n",
      "Top 23 Features - Training Accuracy: 0.9999528627557542, Test Accuracy: 0.9995286288645501\n",
      "Top 24 Features - Training Accuracy: 0.9999528627557542, Test Accuracy: 0.9995397199500902\n",
      "Top 25 Features - Training Accuracy: 0.9999528627557542, Test Accuracy: 0.9995341744073201\n",
      "Top 26 Features - Training Accuracy: 0.9999528627557542, Test Accuracy: 0.9995452654928602\n",
      "Top 27 Features - Training Accuracy: 0.9999528627557542, Test Accuracy: 0.9995341744073201\n",
      "Top 28 Features - Training Accuracy: 0.9999528627557542, Test Accuracy: 0.9995397199500902\n",
      "Top 29 Features - Training Accuracy: 0.9999528627557542, Test Accuracy: 0.9995452654928602\n",
      "Top 30 Features - Training Accuracy: 0.9999528627557542, Test Accuracy: 0.9995508110356301\n"
     ]
    }
   ],
   "source": [
    "def evaluate_top_features(data, selected_features, n_features):\n",
    "    top_n_features = selected_features[:n_features]\n",
    "    X_top = data[top_n_features]\n",
    "    y_top = data['label']\n",
    "    \n",
    "    X_train_top, X_test_top, y_train_top, y_test_top = train_test_split(X_top, y_top, test_size=0.2, random_state=42)\n",
    "    \n",
    "    rf_model_top = RandomForestClassifier(n_estimators=100, random_state=42)\n",
    "    rf_model_top.fit(X_train_top, y_train_top)\n",
    "    \n",
    "    y_train_pred = rf_model_top.predict(X_train_top)\n",
    "    y_test_pred = rf_model_top.predict(X_test_top)\n",
    "    \n",
    "    train_accuracy = accuracy_score(y_train_top, y_train_pred)\n",
    "    test_accuracy = accuracy_score(y_test_top, y_test_pred)\n",
    "    \n",
    "    return train_accuracy, test_accuracy\n",
    "\n",
    "results = []\n",
    "for n in range(1, 31):\n",
    "    train_acc, test_acc = evaluate_top_features(data, selected_features_embedded_sorted, n)\n",
    "    print(f'Number of features: {n}, Training Accuracy: {train_acc}, Test Accuracy: {test_acc}')\n",
    "    results.append((n, train_acc, test_acc))\n",
    "\n",
    "best_result = max(results, key=lambda x: x[2])\n",
    "best_n_features = best_result[0]\n",
    "best_train_accuracy = best_result[1]\n",
    "best_test_accuracy = best_result[2]\n",
    "\n",
    "print(f'Best number of features: {best_n_features}')\n",
    "print(f'Best Training Accuracy: {best_train_accuracy}')\n",
    "print(f'Best Test Accuracy: {best_test_accuracy}')\n",
    "\n",
    "print(\"All results:\")\n",
    "for n, train_acc, test_acc in results:\n",
    "    print(f'Top {n} Features - Training Accuracy: {train_acc}, Test Accuracy: {test_acc}')"
   ]
  },
  {
   "cell_type": "code",
   "execution_count": null,
   "id": "4243f98e",
   "metadata": {},
   "outputs": [],
   "source": []
  }
 ],
 "metadata": {
  "kernelspec": {
   "display_name": "Python 3 (ipykernel)",
   "language": "python",
   "name": "python3"
  },
  "language_info": {
   "codemirror_mode": {
    "name": "ipython",
    "version": 3
   },
   "file_extension": ".py",
   "mimetype": "text/x-python",
   "name": "python",
   "nbconvert_exporter": "python",
   "pygments_lexer": "ipython3",
   "version": "3.9.12"
  }
 },
 "nbformat": 4,
 "nbformat_minor": 5
}
